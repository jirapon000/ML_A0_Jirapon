{
 "cells": [
  {
   "cell_type": "markdown",
   "metadata": {},
   "source": [
    "# **Dataset of pm2.5 with lat and lon only**"
   ]
  },
  {
   "cell_type": "markdown",
   "metadata": {},
   "source": [
    "## **0. Load the modules**"
   ]
  },
  {
   "cell_type": "code",
   "execution_count": 100,
   "metadata": {},
   "outputs": [],
   "source": [
    "import requests\n",
    "import pandas as pd\n",
    "import matplotlib.pyplot as plt\n",
    "import seaborn as sns\n",
    "import numpy as np"
   ]
  },
  {
   "cell_type": "code",
   "execution_count": 101,
   "metadata": {},
   "outputs": [],
   "source": [
    "# API Key and City Information\n",
    "api_key = 'a693b748d40c2a70d69295b2caad893a'\n",
    "city_name = 'Bangkok,TH'"
   ]
  },
  {
   "cell_type": "markdown",
   "metadata": {},
   "source": [
    "## **1. Get Dataset API and convert to dataframe**"
   ]
  },
  {
   "cell_type": "code",
   "execution_count": 102,
   "metadata": {},
   "outputs": [],
   "source": [
    "# Get coordinates from city name (Geocoding API)\n",
    "geocode_url = f'http://api.openweathermap.org/geo/1.0/direct?q={city_name}&limit=1&appid={api_key}'\n",
    "response = requests.get(geocode_url)\n",
    "location_data = response.json()\n",
    "\n",
    "if not location_data:\n",
    "    raise ValueError(\"Invalid city name or no location data available.\")\n",
    "\n",
    "# List of monitoring stations with their coordinates\n",
    "stations = [\n",
    "    {'name': '3T', 'lat': 13.7563, 'lon': 100.5018},\n",
    "    {'name': '5T', 'lat': 13.7367, 'lon': 100.5231},\n",
    "    {'name': '10T', 'lat': 13.7291, 'lon': 100.7750},\n",
    "    {'name': '11T', 'lat': 13.7898, 'lon': 100.4486},\n",
    "    {'name': '12T', 'lat': 13.8225, 'lon': 100.5147},\n",
    "    {'name': '15T', 'lat': 13.7083, 'lon': 100.3728},\n",
    "    {'name': '61T', 'lat': 13.6796, 'lon': 100.6067},\n",
    "    # {'name': '52T (Roadside, Bangkok)', 'lat': 13.7563, 'lon': 100.5018},\n",
    "    # {'name': '54T (Roadside, Bangkok)', 'lat': 13.7367, 'lon': 100.5231}\n",
    "]"
   ]
  },
  {
   "cell_type": "code",
   "execution_count": 103,
   "metadata": {},
   "outputs": [],
   "source": [
    "# Fetch PM2.5 data for each station\n",
    "start_date = int(pd.Timestamp(\"2023-01-01 00:00:00\").timestamp())\n",
    "end_date = int(pd.Timestamp.now().timestamp())\n",
    "\n",
    "pm25_data = []"
   ]
  },
  {
   "cell_type": "code",
   "execution_count": 104,
   "metadata": {},
   "outputs": [
    {
     "name": "stdout",
     "output_type": "stream",
     "text": [
      "             datetime station      lat       lon   pm2_5\n",
      "0 2023-01-01 00:00:00      3T  13.7563  100.5018  158.36\n",
      "1 2023-01-01 01:00:00      3T  13.7563  100.5018  199.19\n",
      "2 2023-01-01 02:00:00      3T  13.7563  100.5018  226.01\n",
      "3 2023-01-01 03:00:00      3T  13.7563  100.5018  235.79\n",
      "4 2023-01-01 04:00:00      3T  13.7563  100.5018  187.84\n"
     ]
    }
   ],
   "source": [
    "for station in stations:\n",
    "    lat = station['lat']\n",
    "    lon = station['lon']\n",
    "    pollution_url = (\n",
    "        f'http://api.openweathermap.org/data/2.5/air_pollution/history?'\n",
    "        f'lat={lat}&lon={lon}&start={start_date}&end={end_date}&appid={api_key}'\n",
    "    )\n",
    "    \n",
    "    response = requests.get(pollution_url)\n",
    "    data = response.json()\n",
    "    \n",
    "    if 'list' in data:\n",
    "        for entry in data['list']:\n",
    "            dt = pd.to_datetime(entry['dt'], unit='s')\n",
    "            pm2_5 = entry['components']['pm2_5']\n",
    "            pm25_data.append({\n",
    "                'datetime': dt,\n",
    "                'station': station['name'],\n",
    "                'lat': lat,\n",
    "                'lon': lon,\n",
    "                'pm2_5': pm2_5\n",
    "            })\n",
    "    else:\n",
    "        print(f\"No data available for station {station['name']} (lat={lat}, lon={lon})\")\n",
    "\n",
    "# Convert to DataFrame\n",
    "pm25_df = pd.DataFrame(pm25_data)\n",
    "print(pm25_df.head())"
   ]
  },
  {
   "cell_type": "code",
   "execution_count": 105,
   "metadata": {},
   "outputs": [
    {
     "data": {
      "text/plain": [
       "(132538, 5)"
      ]
     },
     "execution_count": 105,
     "metadata": {},
     "output_type": "execute_result"
    }
   ],
   "source": [
    "pm25_df.shape"
   ]
  },
  {
   "cell_type": "code",
   "execution_count": 106,
   "metadata": {},
   "outputs": [
    {
     "data": {
      "text/html": [
       "<div>\n",
       "<style scoped>\n",
       "    .dataframe tbody tr th:only-of-type {\n",
       "        vertical-align: middle;\n",
       "    }\n",
       "\n",
       "    .dataframe tbody tr th {\n",
       "        vertical-align: top;\n",
       "    }\n",
       "\n",
       "    .dataframe thead th {\n",
       "        text-align: right;\n",
       "    }\n",
       "</style>\n",
       "<table border=\"1\" class=\"dataframe\">\n",
       "  <thead>\n",
       "    <tr style=\"text-align: right;\">\n",
       "      <th></th>\n",
       "      <th>datetime</th>\n",
       "      <th>station</th>\n",
       "      <th>lat</th>\n",
       "      <th>lon</th>\n",
       "      <th>pm2_5</th>\n",
       "    </tr>\n",
       "  </thead>\n",
       "  <tbody>\n",
       "    <tr>\n",
       "      <th>0</th>\n",
       "      <td>2023-01-01 00:00:00</td>\n",
       "      <td>3T</td>\n",
       "      <td>13.7563</td>\n",
       "      <td>100.5018</td>\n",
       "      <td>158.36</td>\n",
       "    </tr>\n",
       "    <tr>\n",
       "      <th>1</th>\n",
       "      <td>2023-01-01 01:00:00</td>\n",
       "      <td>3T</td>\n",
       "      <td>13.7563</td>\n",
       "      <td>100.5018</td>\n",
       "      <td>199.19</td>\n",
       "    </tr>\n",
       "    <tr>\n",
       "      <th>2</th>\n",
       "      <td>2023-01-01 02:00:00</td>\n",
       "      <td>3T</td>\n",
       "      <td>13.7563</td>\n",
       "      <td>100.5018</td>\n",
       "      <td>226.01</td>\n",
       "    </tr>\n",
       "    <tr>\n",
       "      <th>3</th>\n",
       "      <td>2023-01-01 03:00:00</td>\n",
       "      <td>3T</td>\n",
       "      <td>13.7563</td>\n",
       "      <td>100.5018</td>\n",
       "      <td>235.79</td>\n",
       "    </tr>\n",
       "    <tr>\n",
       "      <th>4</th>\n",
       "      <td>2023-01-01 04:00:00</td>\n",
       "      <td>3T</td>\n",
       "      <td>13.7563</td>\n",
       "      <td>100.5018</td>\n",
       "      <td>187.84</td>\n",
       "    </tr>\n",
       "  </tbody>\n",
       "</table>\n",
       "</div>"
      ],
      "text/plain": [
       "             datetime station      lat       lon   pm2_5\n",
       "0 2023-01-01 00:00:00      3T  13.7563  100.5018  158.36\n",
       "1 2023-01-01 01:00:00      3T  13.7563  100.5018  199.19\n",
       "2 2023-01-01 02:00:00      3T  13.7563  100.5018  226.01\n",
       "3 2023-01-01 03:00:00      3T  13.7563  100.5018  235.79\n",
       "4 2023-01-01 04:00:00      3T  13.7563  100.5018  187.84"
      ]
     },
     "execution_count": 106,
     "metadata": {},
     "output_type": "execute_result"
    }
   ],
   "source": [
    "pm25_df.head()"
   ]
  },
  {
   "cell_type": "code",
   "execution_count": 107,
   "metadata": {},
   "outputs": [
    {
     "data": {
      "text/html": [
       "<div>\n",
       "<style scoped>\n",
       "    .dataframe tbody tr th:only-of-type {\n",
       "        vertical-align: middle;\n",
       "    }\n",
       "\n",
       "    .dataframe tbody tr th {\n",
       "        vertical-align: top;\n",
       "    }\n",
       "\n",
       "    .dataframe thead th {\n",
       "        text-align: right;\n",
       "    }\n",
       "</style>\n",
       "<table border=\"1\" class=\"dataframe\">\n",
       "  <thead>\n",
       "    <tr style=\"text-align: right;\">\n",
       "      <th></th>\n",
       "      <th>datetime</th>\n",
       "      <th>station</th>\n",
       "      <th>lat</th>\n",
       "      <th>lon</th>\n",
       "      <th>pm2_5</th>\n",
       "    </tr>\n",
       "  </thead>\n",
       "  <tbody>\n",
       "    <tr>\n",
       "      <th>0</th>\n",
       "      <td>2023-01-01 00:00:00</td>\n",
       "      <td>3T</td>\n",
       "      <td>13.7563</td>\n",
       "      <td>100.5018</td>\n",
       "      <td>158.36</td>\n",
       "    </tr>\n",
       "    <tr>\n",
       "      <th>1</th>\n",
       "      <td>2023-01-01 01:00:00</td>\n",
       "      <td>3T</td>\n",
       "      <td>13.7563</td>\n",
       "      <td>100.5018</td>\n",
       "      <td>199.19</td>\n",
       "    </tr>\n",
       "    <tr>\n",
       "      <th>2</th>\n",
       "      <td>2023-01-01 02:00:00</td>\n",
       "      <td>3T</td>\n",
       "      <td>13.7563</td>\n",
       "      <td>100.5018</td>\n",
       "      <td>226.01</td>\n",
       "    </tr>\n",
       "    <tr>\n",
       "      <th>3</th>\n",
       "      <td>2023-01-01 03:00:00</td>\n",
       "      <td>3T</td>\n",
       "      <td>13.7563</td>\n",
       "      <td>100.5018</td>\n",
       "      <td>235.79</td>\n",
       "    </tr>\n",
       "    <tr>\n",
       "      <th>4</th>\n",
       "      <td>2023-01-01 04:00:00</td>\n",
       "      <td>3T</td>\n",
       "      <td>13.7563</td>\n",
       "      <td>100.5018</td>\n",
       "      <td>187.84</td>\n",
       "    </tr>\n",
       "    <tr>\n",
       "      <th>...</th>\n",
       "      <td>...</td>\n",
       "      <td>...</td>\n",
       "      <td>...</td>\n",
       "      <td>...</td>\n",
       "      <td>...</td>\n",
       "    </tr>\n",
       "    <tr>\n",
       "      <th>132533</th>\n",
       "      <td>2025-03-13 17:00:00</td>\n",
       "      <td>61T</td>\n",
       "      <td>13.6796</td>\n",
       "      <td>100.6067</td>\n",
       "      <td>29.20</td>\n",
       "    </tr>\n",
       "    <tr>\n",
       "      <th>132534</th>\n",
       "      <td>2025-03-13 18:00:00</td>\n",
       "      <td>61T</td>\n",
       "      <td>13.6796</td>\n",
       "      <td>100.6067</td>\n",
       "      <td>29.09</td>\n",
       "    </tr>\n",
       "    <tr>\n",
       "      <th>132535</th>\n",
       "      <td>2025-03-13 19:00:00</td>\n",
       "      <td>61T</td>\n",
       "      <td>13.6796</td>\n",
       "      <td>100.6067</td>\n",
       "      <td>31.42</td>\n",
       "    </tr>\n",
       "    <tr>\n",
       "      <th>132536</th>\n",
       "      <td>2025-03-13 20:00:00</td>\n",
       "      <td>61T</td>\n",
       "      <td>13.6796</td>\n",
       "      <td>100.6067</td>\n",
       "      <td>33.79</td>\n",
       "    </tr>\n",
       "    <tr>\n",
       "      <th>132537</th>\n",
       "      <td>2025-03-13 21:00:00</td>\n",
       "      <td>61T</td>\n",
       "      <td>13.6796</td>\n",
       "      <td>100.6067</td>\n",
       "      <td>34.96</td>\n",
       "    </tr>\n",
       "  </tbody>\n",
       "</table>\n",
       "<p>132538 rows × 5 columns</p>\n",
       "</div>"
      ],
      "text/plain": [
       "                  datetime station      lat       lon   pm2_5\n",
       "0      2023-01-01 00:00:00      3T  13.7563  100.5018  158.36\n",
       "1      2023-01-01 01:00:00      3T  13.7563  100.5018  199.19\n",
       "2      2023-01-01 02:00:00      3T  13.7563  100.5018  226.01\n",
       "3      2023-01-01 03:00:00      3T  13.7563  100.5018  235.79\n",
       "4      2023-01-01 04:00:00      3T  13.7563  100.5018  187.84\n",
       "...                    ...     ...      ...       ...     ...\n",
       "132533 2025-03-13 17:00:00     61T  13.6796  100.6067   29.20\n",
       "132534 2025-03-13 18:00:00     61T  13.6796  100.6067   29.09\n",
       "132535 2025-03-13 19:00:00     61T  13.6796  100.6067   31.42\n",
       "132536 2025-03-13 20:00:00     61T  13.6796  100.6067   33.79\n",
       "132537 2025-03-13 21:00:00     61T  13.6796  100.6067   34.96\n",
       "\n",
       "[132538 rows x 5 columns]"
      ]
     },
     "execution_count": 107,
     "metadata": {},
     "output_type": "execute_result"
    }
   ],
   "source": [
    "pm25_df"
   ]
  },
  {
   "cell_type": "markdown",
   "metadata": {},
   "source": [
    "## **2. EDA**"
   ]
  },
  {
   "cell_type": "code",
   "execution_count": 108,
   "metadata": {},
   "outputs": [
    {
     "data": {
      "text/plain": [
       "datetime\n",
       "0 days 01:00:00        132454\n",
       "1 days 01:00:00            56\n",
       "2 days 01:00:00            21\n",
       "-803 days +03:00:00         6\n",
       "Name: count, dtype: int64"
      ]
     },
     "execution_count": 108,
     "metadata": {},
     "output_type": "execute_result"
    }
   ],
   "source": [
    "pm25_df['datetime'].diff().value_counts()"
   ]
  },
  {
   "cell_type": "markdown",
   "metadata": {},
   "source": [
    "### **Handling gaps**"
   ]
  },
  {
   "cell_type": "code",
   "execution_count": 109,
   "metadata": {},
   "outputs": [
    {
     "data": {
      "text/plain": [
       "DatetimeIndex(['2023-01-01 00:00:00', '2023-01-01 01:00:00',\n",
       "               '2023-01-01 02:00:00', '2023-01-01 03:00:00',\n",
       "               '2023-01-01 04:00:00', '2023-01-01 05:00:00',\n",
       "               '2023-01-01 06:00:00', '2023-01-01 07:00:00',\n",
       "               '2023-01-01 08:00:00', '2023-01-01 09:00:00',\n",
       "               ...\n",
       "               '2025-03-13 12:00:00', '2025-03-13 13:00:00',\n",
       "               '2025-03-13 14:00:00', '2025-03-13 15:00:00',\n",
       "               '2025-03-13 16:00:00', '2025-03-13 17:00:00',\n",
       "               '2025-03-13 18:00:00', '2025-03-13 19:00:00',\n",
       "               '2025-03-13 20:00:00', '2025-03-13 21:00:00'],\n",
       "              dtype='datetime64[ns]', length=19270, freq='h')"
      ]
     },
     "execution_count": 109,
     "metadata": {},
     "output_type": "execute_result"
    }
   ],
   "source": [
    "actual_range = pd.date_range(start=pm25_df['datetime'].min(), end=pm25_df['datetime'].max(), freq='h')\n",
    "actual_range"
   ]
  },
  {
   "cell_type": "code",
   "execution_count": 110,
   "metadata": {},
   "outputs": [],
   "source": [
    "# Create a new DataFrame with all datetime and station combinations\n",
    "stations = pm25_df[['lat', 'lon']].drop_duplicates()\n",
    "\n",
    "# Create full cartesian product of stations × timestamps\n",
    "full_index = pd.MultiIndex.from_product([actual_range, stations.itertuples(index=False, name=None)], \n",
    "                                        names=[\"datetime\", \"station_info\"])"
   ]
  },
  {
   "cell_type": "code",
   "execution_count": 111,
   "metadata": {},
   "outputs": [],
   "source": [
    "# Convert station lat/lon to tuples for merging\n",
    "pm25_df[\"station_info\"] = list(zip(pm25_df[\"lat\"], pm25_df[\"lon\"]))\n",
    "\n",
    "# Merge with full datetime-station grid to fill missing timestamps per station\n",
    "full_df = pd.DataFrame(index=full_index).reset_index().merge(pm25_df, on=[\"datetime\", \"station_info\"], how=\"left\")\n",
    "\n",
    "# Split 'station_info' back into separate lat/lon columns\n",
    "full_df[[\"lat\", \"lon\"]] = pd.DataFrame(full_df[\"station_info\"].tolist(), index=full_df.index)\n",
    "\n",
    "# Drop redundant column\n",
    "full_df.drop(columns=[\"station_info\"], inplace=True)"
   ]
  },
  {
   "cell_type": "code",
   "execution_count": 112,
   "metadata": {},
   "outputs": [
    {
     "name": "stdout",
     "output_type": "stream",
     "text": [
      "datetime\n",
      "0 days 00:00:00    115620\n",
      "0 days 01:00:00     19269\n",
      "Name: count, dtype: int64\n",
      "\n",
      "\n",
      "--------------------------------------------------\n",
      "I can understand that there can be a duplicate timestamp due to many stations are being recorded at the same time\n"
     ]
    }
   ],
   "source": [
    "# Check for missing timestamps\n",
    "print(full_df[\"datetime\"].diff().value_counts())\n",
    "\n",
    "print('\\n')\n",
    "print('-'*50)\n",
    "print('I can understand that there can be a duplicate timestamp due to many stations are being recorded at the same time')"
   ]
  },
  {
   "cell_type": "markdown",
   "metadata": {},
   "source": [
    "### **Check missing values**"
   ]
  },
  {
   "cell_type": "code",
   "execution_count": 113,
   "metadata": {},
   "outputs": [
    {
     "data": {
      "text/plain": [
       "datetime       0\n",
       "station     2352\n",
       "lat            0\n",
       "lon            0\n",
       "pm2_5       2352\n",
       "dtype: int64"
      ]
     },
     "execution_count": 113,
     "metadata": {},
     "output_type": "execute_result"
    }
   ],
   "source": [
    "full_df.isna().sum()"
   ]
  },
  {
   "cell_type": "markdown",
   "metadata": {},
   "source": [
    "### **Handling missing values**"
   ]
  },
  {
   "cell_type": "code",
   "execution_count": 114,
   "metadata": {},
   "outputs": [],
   "source": [
    "# # Handling missing values for station\n",
    "\n",
    "# # Sort data for consistency\n",
    "# full_df.sort_values(by=['lat', 'lon', 'datetime'], inplace=True)\n",
    "\n",
    "# # Fill missing station names using mode per (lat, lon) group\n",
    "# full_df['station'] = full_df.groupby(['lat', 'lon'])['station'].transform(lambda x: x.mode()[0] if not x.mode().empty else None)\n",
    "\n",
    "# # Final check\n",
    "# print(full_df.isna().sum())"
   ]
  },
  {
   "cell_type": "code",
   "execution_count": 115,
   "metadata": {},
   "outputs": [],
   "source": [
    "# # Handling missing PM2.5 values per station while keeping trends\n",
    "# full_df.sort_values(by=['lat', 'lon', 'datetime'], inplace=True)\n",
    "\n",
    "# # Reset index before interpolation\n",
    "# full_df.reset_index(inplace=True)\n",
    "\n",
    "# # Interpolate missing PM2.5 values per station\n",
    "# full_df['pm2_5'] = full_df.groupby(['lat', 'lon'])['pm2_5'].transform(lambda group: group.interpolate(method='linear'))\n",
    "\n",
    "# # Use backward fill for any remaining missing values\n",
    "# full_df['pm2_5'].fillna(method='bfill', inplace=True)\n",
    "\n",
    "# # Restore original index\n",
    "# full_df.set_index('datetime', inplace=True)\n",
    "\n",
    "# # Final check\n",
    "# print(full_df.isna().sum())"
   ]
  },
  {
   "cell_type": "markdown",
   "metadata": {},
   "source": [
    "### **Check unique values of lat and lon**"
   ]
  },
  {
   "cell_type": "code",
   "execution_count": 116,
   "metadata": {},
   "outputs": [
    {
     "data": {
      "text/plain": [
       "array([13.7563, 13.7367, 13.7291, 13.7898, 13.8225, 13.7083, 13.6796])"
      ]
     },
     "execution_count": 116,
     "metadata": {},
     "output_type": "execute_result"
    }
   ],
   "source": [
    "full_df['lat'].unique()"
   ]
  },
  {
   "cell_type": "code",
   "execution_count": 117,
   "metadata": {},
   "outputs": [
    {
     "data": {
      "text/plain": [
       "array([100.5018, 100.5231, 100.775 , 100.4486, 100.5147, 100.3728,\n",
       "       100.6067])"
      ]
     },
     "execution_count": 117,
     "metadata": {},
     "output_type": "execute_result"
    }
   ],
   "source": [
    "full_df['lon'].unique()"
   ]
  },
  {
   "cell_type": "code",
   "execution_count": 118,
   "metadata": {},
   "outputs": [
    {
     "data": {
      "text/plain": [
       "array(['3T', '5T', '10T', '11T', '12T', '15T', '61T', nan], dtype=object)"
      ]
     },
     "execution_count": 118,
     "metadata": {},
     "output_type": "execute_result"
    }
   ],
   "source": [
    "full_df['station'].unique()"
   ]
  },
  {
   "cell_type": "code",
   "execution_count": 119,
   "metadata": {},
   "outputs": [
    {
     "data": {
      "text/plain": [
       "datetime       0\n",
       "station     2352\n",
       "lat            0\n",
       "lon            0\n",
       "pm2_5       2352\n",
       "dtype: int64"
      ]
     },
     "execution_count": 119,
     "metadata": {},
     "output_type": "execute_result"
    }
   ],
   "source": [
    "full_df.isna().sum()"
   ]
  },
  {
   "cell_type": "code",
   "execution_count": 120,
   "metadata": {},
   "outputs": [
    {
     "data": {
      "text/plain": [
       "lat      lon     \n",
       "13.6796  100.6067    1\n",
       "13.7083  100.3728    1\n",
       "13.7291  100.7750    1\n",
       "13.7367  100.5231    1\n",
       "13.7563  100.5018    1\n",
       "13.7898  100.4486    1\n",
       "13.8225  100.5147    1\n",
       "Name: station, dtype: int64"
      ]
     },
     "execution_count": 120,
     "metadata": {},
     "output_type": "execute_result"
    }
   ],
   "source": [
    "full_df.groupby(['lat', 'lon'])['station'].nunique()\n"
   ]
  },
  {
   "cell_type": "code",
   "execution_count": 121,
   "metadata": {},
   "outputs": [
    {
     "data": {
      "text/html": [
       "<div>\n",
       "<style scoped>\n",
       "    .dataframe tbody tr th:only-of-type {\n",
       "        vertical-align: middle;\n",
       "    }\n",
       "\n",
       "    .dataframe tbody tr th {\n",
       "        vertical-align: top;\n",
       "    }\n",
       "\n",
       "    .dataframe thead th {\n",
       "        text-align: right;\n",
       "    }\n",
       "</style>\n",
       "<table border=\"1\" class=\"dataframe\">\n",
       "  <thead>\n",
       "    <tr style=\"text-align: right;\">\n",
       "      <th></th>\n",
       "      <th>datetime</th>\n",
       "      <th>station</th>\n",
       "      <th>lat</th>\n",
       "      <th>lon</th>\n",
       "      <th>pm2_5</th>\n",
       "    </tr>\n",
       "  </thead>\n",
       "  <tbody>\n",
       "    <tr>\n",
       "      <th>8911</th>\n",
       "      <td>2023-02-23 01:00:00</td>\n",
       "      <td>NaN</td>\n",
       "      <td>13.7563</td>\n",
       "      <td>100.5018</td>\n",
       "      <td>NaN</td>\n",
       "    </tr>\n",
       "    <tr>\n",
       "      <th>8912</th>\n",
       "      <td>2023-02-23 01:00:00</td>\n",
       "      <td>NaN</td>\n",
       "      <td>13.7367</td>\n",
       "      <td>100.5231</td>\n",
       "      <td>NaN</td>\n",
       "    </tr>\n",
       "    <tr>\n",
       "      <th>8913</th>\n",
       "      <td>2023-02-23 01:00:00</td>\n",
       "      <td>NaN</td>\n",
       "      <td>13.7291</td>\n",
       "      <td>100.7750</td>\n",
       "      <td>NaN</td>\n",
       "    </tr>\n",
       "    <tr>\n",
       "      <th>8914</th>\n",
       "      <td>2023-02-23 01:00:00</td>\n",
       "      <td>NaN</td>\n",
       "      <td>13.7898</td>\n",
       "      <td>100.4486</td>\n",
       "      <td>NaN</td>\n",
       "    </tr>\n",
       "    <tr>\n",
       "      <th>8915</th>\n",
       "      <td>2023-02-23 01:00:00</td>\n",
       "      <td>NaN</td>\n",
       "      <td>13.8225</td>\n",
       "      <td>100.5147</td>\n",
       "      <td>NaN</td>\n",
       "    </tr>\n",
       "    <tr>\n",
       "      <th>...</th>\n",
       "      <td>...</td>\n",
       "      <td>...</td>\n",
       "      <td>...</td>\n",
       "      <td>...</td>\n",
       "      <td>...</td>\n",
       "    </tr>\n",
       "    <tr>\n",
       "      <th>133730</th>\n",
       "      <td>2025-03-07 00:00:00</td>\n",
       "      <td>NaN</td>\n",
       "      <td>13.7291</td>\n",
       "      <td>100.7750</td>\n",
       "      <td>NaN</td>\n",
       "    </tr>\n",
       "    <tr>\n",
       "      <th>133731</th>\n",
       "      <td>2025-03-07 00:00:00</td>\n",
       "      <td>NaN</td>\n",
       "      <td>13.7898</td>\n",
       "      <td>100.4486</td>\n",
       "      <td>NaN</td>\n",
       "    </tr>\n",
       "    <tr>\n",
       "      <th>133732</th>\n",
       "      <td>2025-03-07 00:00:00</td>\n",
       "      <td>NaN</td>\n",
       "      <td>13.8225</td>\n",
       "      <td>100.5147</td>\n",
       "      <td>NaN</td>\n",
       "    </tr>\n",
       "    <tr>\n",
       "      <th>133733</th>\n",
       "      <td>2025-03-07 00:00:00</td>\n",
       "      <td>NaN</td>\n",
       "      <td>13.7083</td>\n",
       "      <td>100.3728</td>\n",
       "      <td>NaN</td>\n",
       "    </tr>\n",
       "    <tr>\n",
       "      <th>133734</th>\n",
       "      <td>2025-03-07 00:00:00</td>\n",
       "      <td>NaN</td>\n",
       "      <td>13.6796</td>\n",
       "      <td>100.6067</td>\n",
       "      <td>NaN</td>\n",
       "    </tr>\n",
       "  </tbody>\n",
       "</table>\n",
       "<p>2352 rows × 5 columns</p>\n",
       "</div>"
      ],
      "text/plain": [
       "                  datetime station      lat       lon  pm2_5\n",
       "8911   2023-02-23 01:00:00     NaN  13.7563  100.5018    NaN\n",
       "8912   2023-02-23 01:00:00     NaN  13.7367  100.5231    NaN\n",
       "8913   2023-02-23 01:00:00     NaN  13.7291  100.7750    NaN\n",
       "8914   2023-02-23 01:00:00     NaN  13.7898  100.4486    NaN\n",
       "8915   2023-02-23 01:00:00     NaN  13.8225  100.5147    NaN\n",
       "...                    ...     ...      ...       ...    ...\n",
       "133730 2025-03-07 00:00:00     NaN  13.7291  100.7750    NaN\n",
       "133731 2025-03-07 00:00:00     NaN  13.7898  100.4486    NaN\n",
       "133732 2025-03-07 00:00:00     NaN  13.8225  100.5147    NaN\n",
       "133733 2025-03-07 00:00:00     NaN  13.7083  100.3728    NaN\n",
       "133734 2025-03-07 00:00:00     NaN  13.6796  100.6067    NaN\n",
       "\n",
       "[2352 rows x 5 columns]"
      ]
     },
     "execution_count": 121,
     "metadata": {},
     "output_type": "execute_result"
    }
   ],
   "source": [
    "full_df[full_df['station'].isna()]\n"
   ]
  },
  {
   "cell_type": "code",
   "execution_count": 122,
   "metadata": {},
   "outputs": [
    {
     "data": {
      "text/plain": [
       "station\n",
       "3T     18934\n",
       "5T     18934\n",
       "10T    18934\n",
       "11T    18934\n",
       "12T    18934\n",
       "15T    18934\n",
       "61T    18934\n",
       "Name: count, dtype: int64"
      ]
     },
     "execution_count": 122,
     "metadata": {},
     "output_type": "execute_result"
    }
   ],
   "source": [
    "full_df['station'].value_counts()\n"
   ]
  },
  {
   "cell_type": "code",
   "execution_count": 123,
   "metadata": {},
   "outputs": [],
   "source": [
    "isna = full_df['station'].isna().value_counts() "
   ]
  },
  {
   "cell_type": "code",
   "execution_count": 124,
   "metadata": {},
   "outputs": [
    {
     "data": {
      "text/html": [
       "<div>\n",
       "<style scoped>\n",
       "    .dataframe tbody tr th:only-of-type {\n",
       "        vertical-align: middle;\n",
       "    }\n",
       "\n",
       "    .dataframe tbody tr th {\n",
       "        vertical-align: top;\n",
       "    }\n",
       "\n",
       "    .dataframe thead th {\n",
       "        text-align: right;\n",
       "    }\n",
       "</style>\n",
       "<table border=\"1\" class=\"dataframe\">\n",
       "  <thead>\n",
       "    <tr style=\"text-align: right;\">\n",
       "      <th></th>\n",
       "      <th>datetime</th>\n",
       "      <th>station</th>\n",
       "      <th>lat</th>\n",
       "      <th>lon</th>\n",
       "      <th>pm2_5</th>\n",
       "    </tr>\n",
       "  </thead>\n",
       "  <tbody>\n",
       "    <tr>\n",
       "      <th>8911</th>\n",
       "      <td>2023-02-23 01:00:00</td>\n",
       "      <td>NaN</td>\n",
       "      <td>13.7563</td>\n",
       "      <td>100.5018</td>\n",
       "      <td>NaN</td>\n",
       "    </tr>\n",
       "    <tr>\n",
       "      <th>8912</th>\n",
       "      <td>2023-02-23 01:00:00</td>\n",
       "      <td>NaN</td>\n",
       "      <td>13.7367</td>\n",
       "      <td>100.5231</td>\n",
       "      <td>NaN</td>\n",
       "    </tr>\n",
       "    <tr>\n",
       "      <th>8913</th>\n",
       "      <td>2023-02-23 01:00:00</td>\n",
       "      <td>NaN</td>\n",
       "      <td>13.7291</td>\n",
       "      <td>100.7750</td>\n",
       "      <td>NaN</td>\n",
       "    </tr>\n",
       "    <tr>\n",
       "      <th>8914</th>\n",
       "      <td>2023-02-23 01:00:00</td>\n",
       "      <td>NaN</td>\n",
       "      <td>13.7898</td>\n",
       "      <td>100.4486</td>\n",
       "      <td>NaN</td>\n",
       "    </tr>\n",
       "    <tr>\n",
       "      <th>8915</th>\n",
       "      <td>2023-02-23 01:00:00</td>\n",
       "      <td>NaN</td>\n",
       "      <td>13.8225</td>\n",
       "      <td>100.5147</td>\n",
       "      <td>NaN</td>\n",
       "    </tr>\n",
       "    <tr>\n",
       "      <th>...</th>\n",
       "      <td>...</td>\n",
       "      <td>...</td>\n",
       "      <td>...</td>\n",
       "      <td>...</td>\n",
       "      <td>...</td>\n",
       "    </tr>\n",
       "    <tr>\n",
       "      <th>133730</th>\n",
       "      <td>2025-03-07 00:00:00</td>\n",
       "      <td>NaN</td>\n",
       "      <td>13.7291</td>\n",
       "      <td>100.7750</td>\n",
       "      <td>NaN</td>\n",
       "    </tr>\n",
       "    <tr>\n",
       "      <th>133731</th>\n",
       "      <td>2025-03-07 00:00:00</td>\n",
       "      <td>NaN</td>\n",
       "      <td>13.7898</td>\n",
       "      <td>100.4486</td>\n",
       "      <td>NaN</td>\n",
       "    </tr>\n",
       "    <tr>\n",
       "      <th>133732</th>\n",
       "      <td>2025-03-07 00:00:00</td>\n",
       "      <td>NaN</td>\n",
       "      <td>13.8225</td>\n",
       "      <td>100.5147</td>\n",
       "      <td>NaN</td>\n",
       "    </tr>\n",
       "    <tr>\n",
       "      <th>133733</th>\n",
       "      <td>2025-03-07 00:00:00</td>\n",
       "      <td>NaN</td>\n",
       "      <td>13.7083</td>\n",
       "      <td>100.3728</td>\n",
       "      <td>NaN</td>\n",
       "    </tr>\n",
       "    <tr>\n",
       "      <th>133734</th>\n",
       "      <td>2025-03-07 00:00:00</td>\n",
       "      <td>NaN</td>\n",
       "      <td>13.6796</td>\n",
       "      <td>100.6067</td>\n",
       "      <td>NaN</td>\n",
       "    </tr>\n",
       "  </tbody>\n",
       "</table>\n",
       "<p>2352 rows × 5 columns</p>\n",
       "</div>"
      ],
      "text/plain": [
       "                  datetime station      lat       lon  pm2_5\n",
       "8911   2023-02-23 01:00:00     NaN  13.7563  100.5018    NaN\n",
       "8912   2023-02-23 01:00:00     NaN  13.7367  100.5231    NaN\n",
       "8913   2023-02-23 01:00:00     NaN  13.7291  100.7750    NaN\n",
       "8914   2023-02-23 01:00:00     NaN  13.7898  100.4486    NaN\n",
       "8915   2023-02-23 01:00:00     NaN  13.8225  100.5147    NaN\n",
       "...                    ...     ...      ...       ...    ...\n",
       "133730 2025-03-07 00:00:00     NaN  13.7291  100.7750    NaN\n",
       "133731 2025-03-07 00:00:00     NaN  13.7898  100.4486    NaN\n",
       "133732 2025-03-07 00:00:00     NaN  13.8225  100.5147    NaN\n",
       "133733 2025-03-07 00:00:00     NaN  13.7083  100.3728    NaN\n",
       "133734 2025-03-07 00:00:00     NaN  13.6796  100.6067    NaN\n",
       "\n",
       "[2352 rows x 5 columns]"
      ]
     },
     "execution_count": 124,
     "metadata": {},
     "output_type": "execute_result"
    }
   ],
   "source": [
    "missing_stations = full_df[full_df['station'].isna()]\n",
    "missing_stations"
   ]
  },
  {
   "cell_type": "code",
   "execution_count": 125,
   "metadata": {},
   "outputs": [
    {
     "data": {
      "text/plain": [
       "array([13.7563, 13.7367, 13.7291, 13.7898, 13.8225, 13.7083, 13.6796])"
      ]
     },
     "execution_count": 125,
     "metadata": {},
     "output_type": "execute_result"
    }
   ],
   "source": [
    "full_df['lat'].unique()"
   ]
  },
  {
   "cell_type": "code",
   "execution_count": 126,
   "metadata": {},
   "outputs": [
    {
     "data": {
      "text/plain": [
       "array([100.5018, 100.5231, 100.775 , 100.4486, 100.5147, 100.3728,\n",
       "       100.6067])"
      ]
     },
     "execution_count": 126,
     "metadata": {},
     "output_type": "execute_result"
    }
   ],
   "source": [
    "full_df['lon'].unique()"
   ]
  },
  {
   "cell_type": "code",
   "execution_count": 127,
   "metadata": {},
   "outputs": [
    {
     "data": {
      "text/plain": [
       "datetime       0\n",
       "station     2352\n",
       "lat            0\n",
       "lon            0\n",
       "pm2_5       2352\n",
       "dtype: int64"
      ]
     },
     "execution_count": 127,
     "metadata": {},
     "output_type": "execute_result"
    }
   ],
   "source": [
    "full_df.isna().sum()"
   ]
  },
  {
   "cell_type": "code",
   "execution_count": 128,
   "metadata": {},
   "outputs": [
    {
     "data": {
      "text/html": [
       "<div>\n",
       "<style scoped>\n",
       "    .dataframe tbody tr th:only-of-type {\n",
       "        vertical-align: middle;\n",
       "    }\n",
       "\n",
       "    .dataframe tbody tr th {\n",
       "        vertical-align: top;\n",
       "    }\n",
       "\n",
       "    .dataframe thead th {\n",
       "        text-align: right;\n",
       "    }\n",
       "</style>\n",
       "<table border=\"1\" class=\"dataframe\">\n",
       "  <thead>\n",
       "    <tr style=\"text-align: right;\">\n",
       "      <th></th>\n",
       "      <th>lat</th>\n",
       "      <th>lon</th>\n",
       "    </tr>\n",
       "    <tr>\n",
       "      <th>station</th>\n",
       "      <th></th>\n",
       "      <th></th>\n",
       "    </tr>\n",
       "  </thead>\n",
       "  <tbody>\n",
       "    <tr>\n",
       "      <th>10T</th>\n",
       "      <td>1</td>\n",
       "      <td>1</td>\n",
       "    </tr>\n",
       "    <tr>\n",
       "      <th>11T</th>\n",
       "      <td>1</td>\n",
       "      <td>1</td>\n",
       "    </tr>\n",
       "    <tr>\n",
       "      <th>12T</th>\n",
       "      <td>1</td>\n",
       "      <td>1</td>\n",
       "    </tr>\n",
       "    <tr>\n",
       "      <th>15T</th>\n",
       "      <td>1</td>\n",
       "      <td>1</td>\n",
       "    </tr>\n",
       "    <tr>\n",
       "      <th>3T</th>\n",
       "      <td>1</td>\n",
       "      <td>1</td>\n",
       "    </tr>\n",
       "    <tr>\n",
       "      <th>5T</th>\n",
       "      <td>1</td>\n",
       "      <td>1</td>\n",
       "    </tr>\n",
       "    <tr>\n",
       "      <th>61T</th>\n",
       "      <td>1</td>\n",
       "      <td>1</td>\n",
       "    </tr>\n",
       "  </tbody>\n",
       "</table>\n",
       "</div>"
      ],
      "text/plain": [
       "         lat  lon\n",
       "station          \n",
       "10T        1    1\n",
       "11T        1    1\n",
       "12T        1    1\n",
       "15T        1    1\n",
       "3T         1    1\n",
       "5T         1    1\n",
       "61T        1    1"
      ]
     },
     "execution_count": 128,
     "metadata": {},
     "output_type": "execute_result"
    }
   ],
   "source": [
    "full_df.groupby('station')[['lat', 'lon']].nunique()"
   ]
  },
  {
   "cell_type": "code",
   "execution_count": 129,
   "metadata": {},
   "outputs": [
    {
     "data": {
      "text/plain": [
       "lat      lon     \n",
       "13.6796  100.6067    1\n",
       "13.7083  100.3728    1\n",
       "13.7291  100.7750    1\n",
       "13.7367  100.5231    1\n",
       "13.7563  100.5018    1\n",
       "13.7898  100.4486    1\n",
       "13.8225  100.5147    1\n",
       "Name: station, dtype: int64"
      ]
     },
     "execution_count": 129,
     "metadata": {},
     "output_type": "execute_result"
    }
   ],
   "source": [
    "full_df.groupby(['lat', 'lon'])['station'].nunique()\n"
   ]
  },
  {
   "cell_type": "markdown",
   "metadata": {},
   "source": [
    "### **`Remove the (Roadside, Bangkok) emtries that shared the same lat, lon`**"
   ]
  },
  {
   "cell_type": "code",
   "execution_count": 130,
   "metadata": {},
   "outputs": [
    {
     "data": {
      "text/plain": [
       "lat      lon     \n",
       "13.6796  100.6067    [61T, nan]\n",
       "13.7083  100.3728    [15T, nan]\n",
       "13.7291  100.7750    [10T, nan]\n",
       "13.7367  100.5231     [5T, nan]\n",
       "13.7563  100.5018     [3T, nan]\n",
       "13.7898  100.4486    [11T, nan]\n",
       "13.8225  100.5147    [12T, nan]\n",
       "Name: station, dtype: object"
      ]
     },
     "execution_count": 130,
     "metadata": {},
     "output_type": "execute_result"
    }
   ],
   "source": [
    "full_df.groupby(['lat', 'lon'])['station'].unique()"
   ]
  },
  {
   "cell_type": "code",
   "execution_count": 131,
   "metadata": {},
   "outputs": [
    {
     "data": {
      "text/html": [
       "<div>\n",
       "<style scoped>\n",
       "    .dataframe tbody tr th:only-of-type {\n",
       "        vertical-align: middle;\n",
       "    }\n",
       "\n",
       "    .dataframe tbody tr th {\n",
       "        vertical-align: top;\n",
       "    }\n",
       "\n",
       "    .dataframe thead th {\n",
       "        text-align: right;\n",
       "    }\n",
       "</style>\n",
       "<table border=\"1\" class=\"dataframe\">\n",
       "  <thead>\n",
       "    <tr style=\"text-align: right;\">\n",
       "      <th></th>\n",
       "      <th>datetime</th>\n",
       "      <th>station</th>\n",
       "      <th>lat</th>\n",
       "      <th>lon</th>\n",
       "      <th>pm2_5</th>\n",
       "    </tr>\n",
       "  </thead>\n",
       "  <tbody>\n",
       "    <tr>\n",
       "      <th>0</th>\n",
       "      <td>2023-01-01</td>\n",
       "      <td>3T</td>\n",
       "      <td>13.7563</td>\n",
       "      <td>100.5018</td>\n",
       "      <td>158.36</td>\n",
       "    </tr>\n",
       "    <tr>\n",
       "      <th>1</th>\n",
       "      <td>2023-01-01</td>\n",
       "      <td>5T</td>\n",
       "      <td>13.7367</td>\n",
       "      <td>100.5231</td>\n",
       "      <td>158.36</td>\n",
       "    </tr>\n",
       "    <tr>\n",
       "      <th>2</th>\n",
       "      <td>2023-01-01</td>\n",
       "      <td>10T</td>\n",
       "      <td>13.7291</td>\n",
       "      <td>100.7750</td>\n",
       "      <td>63.83</td>\n",
       "    </tr>\n",
       "    <tr>\n",
       "      <th>3</th>\n",
       "      <td>2023-01-01</td>\n",
       "      <td>11T</td>\n",
       "      <td>13.7898</td>\n",
       "      <td>100.4486</td>\n",
       "      <td>71.83</td>\n",
       "    </tr>\n",
       "    <tr>\n",
       "      <th>4</th>\n",
       "      <td>2023-01-01</td>\n",
       "      <td>12T</td>\n",
       "      <td>13.8225</td>\n",
       "      <td>100.5147</td>\n",
       "      <td>158.36</td>\n",
       "    </tr>\n",
       "  </tbody>\n",
       "</table>\n",
       "</div>"
      ],
      "text/plain": [
       "    datetime station      lat       lon   pm2_5\n",
       "0 2023-01-01      3T  13.7563  100.5018  158.36\n",
       "1 2023-01-01      5T  13.7367  100.5231  158.36\n",
       "2 2023-01-01     10T  13.7291  100.7750   63.83\n",
       "3 2023-01-01     11T  13.7898  100.4486   71.83\n",
       "4 2023-01-01     12T  13.8225  100.5147  158.36"
      ]
     },
     "execution_count": 131,
     "metadata": {},
     "output_type": "execute_result"
    }
   ],
   "source": [
    "full_df.head()"
   ]
  },
  {
   "cell_type": "code",
   "execution_count": 132,
   "metadata": {},
   "outputs": [
    {
     "data": {
      "text/plain": [
       "1.0    134889\n",
       "Name: count, dtype: int64"
      ]
     },
     "execution_count": 132,
     "metadata": {},
     "output_type": "execute_result"
    }
   ],
   "source": [
    "full_df.index.diff().value_counts()"
   ]
  },
  {
   "cell_type": "code",
   "execution_count": 133,
   "metadata": {},
   "outputs": [
    {
     "data": {
      "text/plain": [
       "datetime       0\n",
       "station     2352\n",
       "lat            0\n",
       "lon            0\n",
       "pm2_5       2352\n",
       "dtype: int64"
      ]
     },
     "execution_count": 133,
     "metadata": {},
     "output_type": "execute_result"
    }
   ],
   "source": [
    "full_df.isna().sum()"
   ]
  },
  {
   "cell_type": "markdown",
   "metadata": {},
   "source": [
    "## **3. Save the dataframe**"
   ]
  },
  {
   "cell_type": "code",
   "execution_count": 134,
   "metadata": {},
   "outputs": [],
   "source": [
    "full_df.to_csv('pm25_bangkok_2025_lat_lon.csv', index=True)"
   ]
  },
  {
   "cell_type": "code",
   "execution_count": 135,
   "metadata": {},
   "outputs": [
    {
     "data": {
      "text/html": [
       "<div>\n",
       "<style scoped>\n",
       "    .dataframe tbody tr th:only-of-type {\n",
       "        vertical-align: middle;\n",
       "    }\n",
       "\n",
       "    .dataframe tbody tr th {\n",
       "        vertical-align: top;\n",
       "    }\n",
       "\n",
       "    .dataframe thead th {\n",
       "        text-align: right;\n",
       "    }\n",
       "</style>\n",
       "<table border=\"1\" class=\"dataframe\">\n",
       "  <thead>\n",
       "    <tr style=\"text-align: right;\">\n",
       "      <th></th>\n",
       "      <th>datetime</th>\n",
       "      <th>station</th>\n",
       "      <th>lat</th>\n",
       "      <th>lon</th>\n",
       "      <th>pm2_5</th>\n",
       "    </tr>\n",
       "  </thead>\n",
       "  <tbody>\n",
       "    <tr>\n",
       "      <th>0</th>\n",
       "      <td>2023-01-01 00:00:00</td>\n",
       "      <td>3T</td>\n",
       "      <td>13.7563</td>\n",
       "      <td>100.5018</td>\n",
       "      <td>158.36</td>\n",
       "    </tr>\n",
       "    <tr>\n",
       "      <th>1</th>\n",
       "      <td>2023-01-01 00:00:00</td>\n",
       "      <td>5T</td>\n",
       "      <td>13.7367</td>\n",
       "      <td>100.5231</td>\n",
       "      <td>158.36</td>\n",
       "    </tr>\n",
       "    <tr>\n",
       "      <th>2</th>\n",
       "      <td>2023-01-01 00:00:00</td>\n",
       "      <td>10T</td>\n",
       "      <td>13.7291</td>\n",
       "      <td>100.7750</td>\n",
       "      <td>63.83</td>\n",
       "    </tr>\n",
       "    <tr>\n",
       "      <th>3</th>\n",
       "      <td>2023-01-01 00:00:00</td>\n",
       "      <td>11T</td>\n",
       "      <td>13.7898</td>\n",
       "      <td>100.4486</td>\n",
       "      <td>71.83</td>\n",
       "    </tr>\n",
       "    <tr>\n",
       "      <th>4</th>\n",
       "      <td>2023-01-01 00:00:00</td>\n",
       "      <td>12T</td>\n",
       "      <td>13.8225</td>\n",
       "      <td>100.5147</td>\n",
       "      <td>158.36</td>\n",
       "    </tr>\n",
       "    <tr>\n",
       "      <th>...</th>\n",
       "      <td>...</td>\n",
       "      <td>...</td>\n",
       "      <td>...</td>\n",
       "      <td>...</td>\n",
       "      <td>...</td>\n",
       "    </tr>\n",
       "    <tr>\n",
       "      <th>134885</th>\n",
       "      <td>2025-03-13 21:00:00</td>\n",
       "      <td>10T</td>\n",
       "      <td>13.7291</td>\n",
       "      <td>100.7750</td>\n",
       "      <td>34.96</td>\n",
       "    </tr>\n",
       "    <tr>\n",
       "      <th>134886</th>\n",
       "      <td>2025-03-13 21:00:00</td>\n",
       "      <td>11T</td>\n",
       "      <td>13.7898</td>\n",
       "      <td>100.4486</td>\n",
       "      <td>21.47</td>\n",
       "    </tr>\n",
       "    <tr>\n",
       "      <th>134887</th>\n",
       "      <td>2025-03-13 21:00:00</td>\n",
       "      <td>12T</td>\n",
       "      <td>13.8225</td>\n",
       "      <td>100.5147</td>\n",
       "      <td>33.04</td>\n",
       "    </tr>\n",
       "    <tr>\n",
       "      <th>134888</th>\n",
       "      <td>2025-03-13 21:00:00</td>\n",
       "      <td>15T</td>\n",
       "      <td>13.7083</td>\n",
       "      <td>100.3728</td>\n",
       "      <td>5.86</td>\n",
       "    </tr>\n",
       "    <tr>\n",
       "      <th>134889</th>\n",
       "      <td>2025-03-13 21:00:00</td>\n",
       "      <td>61T</td>\n",
       "      <td>13.6796</td>\n",
       "      <td>100.6067</td>\n",
       "      <td>34.96</td>\n",
       "    </tr>\n",
       "  </tbody>\n",
       "</table>\n",
       "<p>134890 rows × 5 columns</p>\n",
       "</div>"
      ],
      "text/plain": [
       "                  datetime station      lat       lon   pm2_5\n",
       "0      2023-01-01 00:00:00      3T  13.7563  100.5018  158.36\n",
       "1      2023-01-01 00:00:00      5T  13.7367  100.5231  158.36\n",
       "2      2023-01-01 00:00:00     10T  13.7291  100.7750   63.83\n",
       "3      2023-01-01 00:00:00     11T  13.7898  100.4486   71.83\n",
       "4      2023-01-01 00:00:00     12T  13.8225  100.5147  158.36\n",
       "...                    ...     ...      ...       ...     ...\n",
       "134885 2025-03-13 21:00:00     10T  13.7291  100.7750   34.96\n",
       "134886 2025-03-13 21:00:00     11T  13.7898  100.4486   21.47\n",
       "134887 2025-03-13 21:00:00     12T  13.8225  100.5147   33.04\n",
       "134888 2025-03-13 21:00:00     15T  13.7083  100.3728    5.86\n",
       "134889 2025-03-13 21:00:00     61T  13.6796  100.6067   34.96\n",
       "\n",
       "[134890 rows x 5 columns]"
      ]
     },
     "execution_count": 135,
     "metadata": {},
     "output_type": "execute_result"
    }
   ],
   "source": [
    "full_df"
   ]
  },
  {
   "cell_type": "code",
   "execution_count": 136,
   "metadata": {},
   "outputs": [
    {
     "data": {
      "text/plain": [
       "1.0    134889\n",
       "Name: count, dtype: int64"
      ]
     },
     "execution_count": 136,
     "metadata": {},
     "output_type": "execute_result"
    }
   ],
   "source": [
    "full_df.index.diff().value_counts()"
   ]
  },
  {
   "cell_type": "markdown",
   "metadata": {},
   "source": [
    "## **4. Try loading the saved dataset and start analysis**"
   ]
  },
  {
   "cell_type": "code",
   "execution_count": 137,
   "metadata": {},
   "outputs": [
    {
     "data": {
      "text/html": [
       "<div>\n",
       "<style scoped>\n",
       "    .dataframe tbody tr th:only-of-type {\n",
       "        vertical-align: middle;\n",
       "    }\n",
       "\n",
       "    .dataframe tbody tr th {\n",
       "        vertical-align: top;\n",
       "    }\n",
       "\n",
       "    .dataframe thead th {\n",
       "        text-align: right;\n",
       "    }\n",
       "</style>\n",
       "<table border=\"1\" class=\"dataframe\">\n",
       "  <thead>\n",
       "    <tr style=\"text-align: right;\">\n",
       "      <th></th>\n",
       "      <th>Unnamed: 0</th>\n",
       "      <th>datetime</th>\n",
       "      <th>station</th>\n",
       "      <th>lat</th>\n",
       "      <th>lon</th>\n",
       "      <th>pm2_5</th>\n",
       "    </tr>\n",
       "  </thead>\n",
       "  <tbody>\n",
       "    <tr>\n",
       "      <th>0</th>\n",
       "      <td>0</td>\n",
       "      <td>2023-01-01</td>\n",
       "      <td>3T</td>\n",
       "      <td>13.7563</td>\n",
       "      <td>100.5018</td>\n",
       "      <td>158.36</td>\n",
       "    </tr>\n",
       "    <tr>\n",
       "      <th>1</th>\n",
       "      <td>1</td>\n",
       "      <td>2023-01-01</td>\n",
       "      <td>5T</td>\n",
       "      <td>13.7367</td>\n",
       "      <td>100.5231</td>\n",
       "      <td>158.36</td>\n",
       "    </tr>\n",
       "    <tr>\n",
       "      <th>2</th>\n",
       "      <td>2</td>\n",
       "      <td>2023-01-01</td>\n",
       "      <td>10T</td>\n",
       "      <td>13.7291</td>\n",
       "      <td>100.7750</td>\n",
       "      <td>63.83</td>\n",
       "    </tr>\n",
       "    <tr>\n",
       "      <th>3</th>\n",
       "      <td>3</td>\n",
       "      <td>2023-01-01</td>\n",
       "      <td>11T</td>\n",
       "      <td>13.7898</td>\n",
       "      <td>100.4486</td>\n",
       "      <td>71.83</td>\n",
       "    </tr>\n",
       "    <tr>\n",
       "      <th>4</th>\n",
       "      <td>4</td>\n",
       "      <td>2023-01-01</td>\n",
       "      <td>12T</td>\n",
       "      <td>13.8225</td>\n",
       "      <td>100.5147</td>\n",
       "      <td>158.36</td>\n",
       "    </tr>\n",
       "  </tbody>\n",
       "</table>\n",
       "</div>"
      ],
      "text/plain": [
       "   Unnamed: 0   datetime station      lat       lon   pm2_5\n",
       "0           0 2023-01-01      3T  13.7563  100.5018  158.36\n",
       "1           1 2023-01-01      5T  13.7367  100.5231  158.36\n",
       "2           2 2023-01-01     10T  13.7291  100.7750   63.83\n",
       "3           3 2023-01-01     11T  13.7898  100.4486   71.83\n",
       "4           4 2023-01-01     12T  13.8225  100.5147  158.36"
      ]
     },
     "execution_count": 137,
     "metadata": {},
     "output_type": "execute_result"
    }
   ],
   "source": [
    "df = pd.read_csv('pm25_bangkok_2025_lat_lon.csv', parse_dates=['datetime'])\n",
    "df.head()"
   ]
  },
  {
   "cell_type": "markdown",
   "metadata": {},
   "source": [
    "### **Validate the loaded dataframe**"
   ]
  },
  {
   "cell_type": "code",
   "execution_count": 138,
   "metadata": {},
   "outputs": [
    {
     "data": {
      "text/plain": [
       "Unnamed: 0       0\n",
       "datetime         0\n",
       "station       2352\n",
       "lat              0\n",
       "lon              0\n",
       "pm2_5         2352\n",
       "dtype: int64"
      ]
     },
     "execution_count": 138,
     "metadata": {},
     "output_type": "execute_result"
    }
   ],
   "source": [
    "df.isna().sum()"
   ]
  },
  {
   "cell_type": "code",
   "execution_count": 139,
   "metadata": {},
   "outputs": [],
   "source": [
    "df.set_index('datetime', inplace=True)"
   ]
  },
  {
   "cell_type": "code",
   "execution_count": 140,
   "metadata": {},
   "outputs": [
    {
     "data": {
      "text/plain": [
       "datetime\n",
       "0 days 00:00:00    115620\n",
       "0 days 01:00:00     19269\n",
       "Name: count, dtype: int64"
      ]
     },
     "execution_count": 140,
     "metadata": {},
     "output_type": "execute_result"
    }
   ],
   "source": [
    "df.index.diff().value_counts()"
   ]
  },
  {
   "cell_type": "code",
   "execution_count": 141,
   "metadata": {},
   "outputs": [
    {
     "data": {
      "text/html": [
       "<div>\n",
       "<style scoped>\n",
       "    .dataframe tbody tr th:only-of-type {\n",
       "        vertical-align: middle;\n",
       "    }\n",
       "\n",
       "    .dataframe tbody tr th {\n",
       "        vertical-align: top;\n",
       "    }\n",
       "\n",
       "    .dataframe thead th {\n",
       "        text-align: right;\n",
       "    }\n",
       "</style>\n",
       "<table border=\"1\" class=\"dataframe\">\n",
       "  <thead>\n",
       "    <tr style=\"text-align: right;\">\n",
       "      <th></th>\n",
       "      <th>Unnamed: 0</th>\n",
       "      <th>station</th>\n",
       "      <th>lat</th>\n",
       "      <th>lon</th>\n",
       "      <th>pm2_5</th>\n",
       "    </tr>\n",
       "    <tr>\n",
       "      <th>datetime</th>\n",
       "      <th></th>\n",
       "      <th></th>\n",
       "      <th></th>\n",
       "      <th></th>\n",
       "      <th></th>\n",
       "    </tr>\n",
       "  </thead>\n",
       "  <tbody>\n",
       "    <tr>\n",
       "      <th>2023-01-01</th>\n",
       "      <td>0</td>\n",
       "      <td>3T</td>\n",
       "      <td>13.7563</td>\n",
       "      <td>100.5018</td>\n",
       "      <td>158.36</td>\n",
       "    </tr>\n",
       "    <tr>\n",
       "      <th>2023-01-01</th>\n",
       "      <td>1</td>\n",
       "      <td>5T</td>\n",
       "      <td>13.7367</td>\n",
       "      <td>100.5231</td>\n",
       "      <td>158.36</td>\n",
       "    </tr>\n",
       "    <tr>\n",
       "      <th>2023-01-01</th>\n",
       "      <td>2</td>\n",
       "      <td>10T</td>\n",
       "      <td>13.7291</td>\n",
       "      <td>100.7750</td>\n",
       "      <td>63.83</td>\n",
       "    </tr>\n",
       "    <tr>\n",
       "      <th>2023-01-01</th>\n",
       "      <td>3</td>\n",
       "      <td>11T</td>\n",
       "      <td>13.7898</td>\n",
       "      <td>100.4486</td>\n",
       "      <td>71.83</td>\n",
       "    </tr>\n",
       "    <tr>\n",
       "      <th>2023-01-01</th>\n",
       "      <td>4</td>\n",
       "      <td>12T</td>\n",
       "      <td>13.8225</td>\n",
       "      <td>100.5147</td>\n",
       "      <td>158.36</td>\n",
       "    </tr>\n",
       "  </tbody>\n",
       "</table>\n",
       "</div>"
      ],
      "text/plain": [
       "            Unnamed: 0 station      lat       lon   pm2_5\n",
       "datetime                                                 \n",
       "2023-01-01           0      3T  13.7563  100.5018  158.36\n",
       "2023-01-01           1      5T  13.7367  100.5231  158.36\n",
       "2023-01-01           2     10T  13.7291  100.7750   63.83\n",
       "2023-01-01           3     11T  13.7898  100.4486   71.83\n",
       "2023-01-01           4     12T  13.8225  100.5147  158.36"
      ]
     },
     "execution_count": 141,
     "metadata": {},
     "output_type": "execute_result"
    }
   ],
   "source": [
    "df.head()"
   ]
  },
  {
   "cell_type": "code",
   "execution_count": 142,
   "metadata": {},
   "outputs": [
    {
     "data": {
      "text/html": [
       "<div>\n",
       "<style scoped>\n",
       "    .dataframe tbody tr th:only-of-type {\n",
       "        vertical-align: middle;\n",
       "    }\n",
       "\n",
       "    .dataframe tbody tr th {\n",
       "        vertical-align: top;\n",
       "    }\n",
       "\n",
       "    .dataframe thead th {\n",
       "        text-align: right;\n",
       "    }\n",
       "</style>\n",
       "<table border=\"1\" class=\"dataframe\">\n",
       "  <thead>\n",
       "    <tr style=\"text-align: right;\">\n",
       "      <th></th>\n",
       "      <th>datetime</th>\n",
       "      <th>Unnamed: 0</th>\n",
       "      <th>station</th>\n",
       "      <th>lat</th>\n",
       "      <th>lon</th>\n",
       "      <th>pm2_5</th>\n",
       "    </tr>\n",
       "  </thead>\n",
       "  <tbody>\n",
       "    <tr>\n",
       "      <th>0</th>\n",
       "      <td>2023-01-01 00:00:00</td>\n",
       "      <td>0</td>\n",
       "      <td>3T</td>\n",
       "      <td>13.7563</td>\n",
       "      <td>100.5018</td>\n",
       "      <td>158.36</td>\n",
       "    </tr>\n",
       "    <tr>\n",
       "      <th>1</th>\n",
       "      <td>2023-01-01 00:00:00</td>\n",
       "      <td>1</td>\n",
       "      <td>5T</td>\n",
       "      <td>13.7367</td>\n",
       "      <td>100.5231</td>\n",
       "      <td>158.36</td>\n",
       "    </tr>\n",
       "    <tr>\n",
       "      <th>2</th>\n",
       "      <td>2023-01-01 00:00:00</td>\n",
       "      <td>2</td>\n",
       "      <td>10T</td>\n",
       "      <td>13.7291</td>\n",
       "      <td>100.7750</td>\n",
       "      <td>63.83</td>\n",
       "    </tr>\n",
       "    <tr>\n",
       "      <th>3</th>\n",
       "      <td>2023-01-01 00:00:00</td>\n",
       "      <td>3</td>\n",
       "      <td>11T</td>\n",
       "      <td>13.7898</td>\n",
       "      <td>100.4486</td>\n",
       "      <td>71.83</td>\n",
       "    </tr>\n",
       "    <tr>\n",
       "      <th>4</th>\n",
       "      <td>2023-01-01 00:00:00</td>\n",
       "      <td>4</td>\n",
       "      <td>12T</td>\n",
       "      <td>13.8225</td>\n",
       "      <td>100.5147</td>\n",
       "      <td>158.36</td>\n",
       "    </tr>\n",
       "    <tr>\n",
       "      <th>...</th>\n",
       "      <td>...</td>\n",
       "      <td>...</td>\n",
       "      <td>...</td>\n",
       "      <td>...</td>\n",
       "      <td>...</td>\n",
       "      <td>...</td>\n",
       "    </tr>\n",
       "    <tr>\n",
       "      <th>134885</th>\n",
       "      <td>2025-03-13 21:00:00</td>\n",
       "      <td>134885</td>\n",
       "      <td>10T</td>\n",
       "      <td>13.7291</td>\n",
       "      <td>100.7750</td>\n",
       "      <td>34.96</td>\n",
       "    </tr>\n",
       "    <tr>\n",
       "      <th>134886</th>\n",
       "      <td>2025-03-13 21:00:00</td>\n",
       "      <td>134886</td>\n",
       "      <td>11T</td>\n",
       "      <td>13.7898</td>\n",
       "      <td>100.4486</td>\n",
       "      <td>21.47</td>\n",
       "    </tr>\n",
       "    <tr>\n",
       "      <th>134887</th>\n",
       "      <td>2025-03-13 21:00:00</td>\n",
       "      <td>134887</td>\n",
       "      <td>12T</td>\n",
       "      <td>13.8225</td>\n",
       "      <td>100.5147</td>\n",
       "      <td>33.04</td>\n",
       "    </tr>\n",
       "    <tr>\n",
       "      <th>134888</th>\n",
       "      <td>2025-03-13 21:00:00</td>\n",
       "      <td>134888</td>\n",
       "      <td>15T</td>\n",
       "      <td>13.7083</td>\n",
       "      <td>100.3728</td>\n",
       "      <td>5.86</td>\n",
       "    </tr>\n",
       "    <tr>\n",
       "      <th>134889</th>\n",
       "      <td>2025-03-13 21:00:00</td>\n",
       "      <td>134889</td>\n",
       "      <td>61T</td>\n",
       "      <td>13.6796</td>\n",
       "      <td>100.6067</td>\n",
       "      <td>34.96</td>\n",
       "    </tr>\n",
       "  </tbody>\n",
       "</table>\n",
       "<p>134890 rows × 6 columns</p>\n",
       "</div>"
      ],
      "text/plain": [
       "                  datetime  Unnamed: 0 station      lat       lon   pm2_5\n",
       "0      2023-01-01 00:00:00           0      3T  13.7563  100.5018  158.36\n",
       "1      2023-01-01 00:00:00           1      5T  13.7367  100.5231  158.36\n",
       "2      2023-01-01 00:00:00           2     10T  13.7291  100.7750   63.83\n",
       "3      2023-01-01 00:00:00           3     11T  13.7898  100.4486   71.83\n",
       "4      2023-01-01 00:00:00           4     12T  13.8225  100.5147  158.36\n",
       "...                    ...         ...     ...      ...       ...     ...\n",
       "134885 2025-03-13 21:00:00      134885     10T  13.7291  100.7750   34.96\n",
       "134886 2025-03-13 21:00:00      134886     11T  13.7898  100.4486   21.47\n",
       "134887 2025-03-13 21:00:00      134887     12T  13.8225  100.5147   33.04\n",
       "134888 2025-03-13 21:00:00      134888     15T  13.7083  100.3728    5.86\n",
       "134889 2025-03-13 21:00:00      134889     61T  13.6796  100.6067   34.96\n",
       "\n",
       "[134890 rows x 6 columns]"
      ]
     },
     "execution_count": 142,
     "metadata": {},
     "output_type": "execute_result"
    }
   ],
   "source": [
    "df.reset_index(inplace=True)\n",
    "df"
   ]
  },
  {
   "cell_type": "code",
   "execution_count": 143,
   "metadata": {},
   "outputs": [
    {
     "data": {
      "text/html": [
       "<div>\n",
       "<style scoped>\n",
       "    .dataframe tbody tr th:only-of-type {\n",
       "        vertical-align: middle;\n",
       "    }\n",
       "\n",
       "    .dataframe tbody tr th {\n",
       "        vertical-align: top;\n",
       "    }\n",
       "\n",
       "    .dataframe thead th {\n",
       "        text-align: right;\n",
       "    }\n",
       "</style>\n",
       "<table border=\"1\" class=\"dataframe\">\n",
       "  <thead>\n",
       "    <tr style=\"text-align: right;\">\n",
       "      <th></th>\n",
       "      <th>datetime</th>\n",
       "      <th>Unnamed: 0</th>\n",
       "      <th>station</th>\n",
       "      <th>lat</th>\n",
       "      <th>lon</th>\n",
       "      <th>pm2_5</th>\n",
       "    </tr>\n",
       "  </thead>\n",
       "  <tbody>\n",
       "    <tr>\n",
       "      <th>0</th>\n",
       "      <td>2023-01-01 00:00:00</td>\n",
       "      <td>0</td>\n",
       "      <td>3T</td>\n",
       "      <td>13.7563</td>\n",
       "      <td>100.5018</td>\n",
       "      <td>158.36</td>\n",
       "    </tr>\n",
       "    <tr>\n",
       "      <th>1</th>\n",
       "      <td>2023-01-01 00:00:00</td>\n",
       "      <td>1</td>\n",
       "      <td>5T</td>\n",
       "      <td>13.7367</td>\n",
       "      <td>100.5231</td>\n",
       "      <td>158.36</td>\n",
       "    </tr>\n",
       "    <tr>\n",
       "      <th>2</th>\n",
       "      <td>2023-01-01 00:00:00</td>\n",
       "      <td>2</td>\n",
       "      <td>10T</td>\n",
       "      <td>13.7291</td>\n",
       "      <td>100.7750</td>\n",
       "      <td>63.83</td>\n",
       "    </tr>\n",
       "    <tr>\n",
       "      <th>3</th>\n",
       "      <td>2023-01-01 00:00:00</td>\n",
       "      <td>3</td>\n",
       "      <td>11T</td>\n",
       "      <td>13.7898</td>\n",
       "      <td>100.4486</td>\n",
       "      <td>71.83</td>\n",
       "    </tr>\n",
       "    <tr>\n",
       "      <th>4</th>\n",
       "      <td>2023-01-01 00:00:00</td>\n",
       "      <td>4</td>\n",
       "      <td>12T</td>\n",
       "      <td>13.8225</td>\n",
       "      <td>100.5147</td>\n",
       "      <td>158.36</td>\n",
       "    </tr>\n",
       "    <tr>\n",
       "      <th>...</th>\n",
       "      <td>...</td>\n",
       "      <td>...</td>\n",
       "      <td>...</td>\n",
       "      <td>...</td>\n",
       "      <td>...</td>\n",
       "      <td>...</td>\n",
       "    </tr>\n",
       "    <tr>\n",
       "      <th>134885</th>\n",
       "      <td>2025-03-13 21:00:00</td>\n",
       "      <td>134885</td>\n",
       "      <td>10T</td>\n",
       "      <td>13.7291</td>\n",
       "      <td>100.7750</td>\n",
       "      <td>34.96</td>\n",
       "    </tr>\n",
       "    <tr>\n",
       "      <th>134886</th>\n",
       "      <td>2025-03-13 21:00:00</td>\n",
       "      <td>134886</td>\n",
       "      <td>11T</td>\n",
       "      <td>13.7898</td>\n",
       "      <td>100.4486</td>\n",
       "      <td>21.47</td>\n",
       "    </tr>\n",
       "    <tr>\n",
       "      <th>134887</th>\n",
       "      <td>2025-03-13 21:00:00</td>\n",
       "      <td>134887</td>\n",
       "      <td>12T</td>\n",
       "      <td>13.8225</td>\n",
       "      <td>100.5147</td>\n",
       "      <td>33.04</td>\n",
       "    </tr>\n",
       "    <tr>\n",
       "      <th>134888</th>\n",
       "      <td>2025-03-13 21:00:00</td>\n",
       "      <td>134888</td>\n",
       "      <td>15T</td>\n",
       "      <td>13.7083</td>\n",
       "      <td>100.3728</td>\n",
       "      <td>5.86</td>\n",
       "    </tr>\n",
       "    <tr>\n",
       "      <th>134889</th>\n",
       "      <td>2025-03-13 21:00:00</td>\n",
       "      <td>134889</td>\n",
       "      <td>61T</td>\n",
       "      <td>13.6796</td>\n",
       "      <td>100.6067</td>\n",
       "      <td>34.96</td>\n",
       "    </tr>\n",
       "  </tbody>\n",
       "</table>\n",
       "<p>134890 rows × 6 columns</p>\n",
       "</div>"
      ],
      "text/plain": [
       "                  datetime  Unnamed: 0 station      lat       lon   pm2_5\n",
       "0      2023-01-01 00:00:00           0      3T  13.7563  100.5018  158.36\n",
       "1      2023-01-01 00:00:00           1      5T  13.7367  100.5231  158.36\n",
       "2      2023-01-01 00:00:00           2     10T  13.7291  100.7750   63.83\n",
       "3      2023-01-01 00:00:00           3     11T  13.7898  100.4486   71.83\n",
       "4      2023-01-01 00:00:00           4     12T  13.8225  100.5147  158.36\n",
       "...                    ...         ...     ...      ...       ...     ...\n",
       "134885 2025-03-13 21:00:00      134885     10T  13.7291  100.7750   34.96\n",
       "134886 2025-03-13 21:00:00      134886     11T  13.7898  100.4486   21.47\n",
       "134887 2025-03-13 21:00:00      134887     12T  13.8225  100.5147   33.04\n",
       "134888 2025-03-13 21:00:00      134888     15T  13.7083  100.3728    5.86\n",
       "134889 2025-03-13 21:00:00      134889     61T  13.6796  100.6067   34.96\n",
       "\n",
       "[134890 rows x 6 columns]"
      ]
     },
     "execution_count": 143,
     "metadata": {},
     "output_type": "execute_result"
    }
   ],
   "source": [
    "df"
   ]
  },
  {
   "cell_type": "markdown",
   "metadata": {},
   "source": [
    "## **5. Feature engineering**"
   ]
  },
  {
   "cell_type": "code",
   "execution_count": 144,
   "metadata": {},
   "outputs": [
    {
     "name": "stdout",
     "output_type": "stream",
     "text": [
      "    datetime  Unnamed: 0 station      lat       lon   pm2_5  hour  month  \\\n",
      "0 2023-01-01           0      3T  13.7563  100.5018  158.36     0      1   \n",
      "1 2023-01-01           1      5T  13.7367  100.5231  158.36     0      1   \n",
      "2 2023-01-01           2     10T  13.7291  100.7750   63.83     0      1   \n",
      "3 2023-01-01           3     11T  13.7898  100.4486   71.83     0      1   \n",
      "4 2023-01-01           4     12T  13.8225  100.5147  158.36     0      1   \n",
      "\n",
      "   day_of_week  \n",
      "0            6  \n",
      "1            6  \n",
      "2            6  \n",
      "3            6  \n",
      "4            6  \n"
     ]
    }
   ],
   "source": [
    "#Add more feature about time\n",
    "df['datetime'] = pd.to_datetime(df['datetime'])\n",
    "\n",
    "# Extract hour as 'time'\n",
    "df['hour'] = df['datetime'].dt.hour\n",
    "\n",
    "# Extract month\n",
    "df['month'] = df['datetime'].dt.month\n",
    "\n",
    "# Extract day of the week as a number (0 as Monday to 6 as Sunday)\n",
    "df['day_of_week'] = df['datetime'].dt.dayofweek\n",
    "\n",
    "# Display the updated DataFrame\n",
    "print(df.head())"
   ]
  },
  {
   "cell_type": "code",
   "execution_count": 145,
   "metadata": {},
   "outputs": [],
   "source": [
    "df2 = pd.read_csv(r'df2.csv',header=0)"
   ]
  },
  {
   "cell_type": "code",
   "execution_count": 146,
   "metadata": {},
   "outputs": [],
   "source": [
    "df = df.merge(df2, on=['station'])"
   ]
  },
  {
   "cell_type": "code",
   "execution_count": 147,
   "metadata": {},
   "outputs": [
    {
     "data": {
      "text/html": [
       "<div>\n",
       "<style scoped>\n",
       "    .dataframe tbody tr th:only-of-type {\n",
       "        vertical-align: middle;\n",
       "    }\n",
       "\n",
       "    .dataframe tbody tr th {\n",
       "        vertical-align: top;\n",
       "    }\n",
       "\n",
       "    .dataframe thead th {\n",
       "        text-align: right;\n",
       "    }\n",
       "</style>\n",
       "<table border=\"1\" class=\"dataframe\">\n",
       "  <thead>\n",
       "    <tr style=\"text-align: right;\">\n",
       "      <th></th>\n",
       "      <th>datetime</th>\n",
       "      <th>Unnamed: 0</th>\n",
       "      <th>station</th>\n",
       "      <th>lat</th>\n",
       "      <th>lon</th>\n",
       "      <th>pm2_5</th>\n",
       "      <th>hour</th>\n",
       "      <th>month</th>\n",
       "      <th>day_of_week</th>\n",
       "      <th>sea_level</th>\n",
       "      <th>population</th>\n",
       "      <th>population_density</th>\n",
       "      <th>household</th>\n",
       "      <th>household_density</th>\n",
       "      <th>green_space</th>\n",
       "      <th>green_space_area</th>\n",
       "      <th>factory_num</th>\n",
       "      <th>factory_area</th>\n",
       "    </tr>\n",
       "  </thead>\n",
       "  <tbody>\n",
       "    <tr>\n",
       "      <th>0</th>\n",
       "      <td>2023-01-01</td>\n",
       "      <td>0</td>\n",
       "      <td>3T</td>\n",
       "      <td>13.7563</td>\n",
       "      <td>100.5018</td>\n",
       "      <td>158.36</td>\n",
       "      <td>0</td>\n",
       "      <td>1</td>\n",
       "      <td>6</td>\n",
       "      <td>23</td>\n",
       "      <td>64468</td>\n",
       "      <td>9046.87</td>\n",
       "      <td>58039</td>\n",
       "      <td>0.81</td>\n",
       "      <td>10.77</td>\n",
       "      <td>0.10</td>\n",
       "      <td>112</td>\n",
       "      <td>123059</td>\n",
       "    </tr>\n",
       "    <tr>\n",
       "      <th>1</th>\n",
       "      <td>2023-01-01</td>\n",
       "      <td>1</td>\n",
       "      <td>5T</td>\n",
       "      <td>13.7367</td>\n",
       "      <td>100.5231</td>\n",
       "      <td>158.36</td>\n",
       "      <td>0</td>\n",
       "      <td>1</td>\n",
       "      <td>6</td>\n",
       "      <td>10</td>\n",
       "      <td>40077</td>\n",
       "      <td>4788.74</td>\n",
       "      <td>32138</td>\n",
       "      <td>0.38</td>\n",
       "      <td>22.97</td>\n",
       "      <td>0.11</td>\n",
       "      <td>188</td>\n",
       "      <td>54185</td>\n",
       "    </tr>\n",
       "    <tr>\n",
       "      <th>2</th>\n",
       "      <td>2023-01-01</td>\n",
       "      <td>2</td>\n",
       "      <td>10T</td>\n",
       "      <td>13.7291</td>\n",
       "      <td>100.7750</td>\n",
       "      <td>63.83</td>\n",
       "      <td>0</td>\n",
       "      <td>1</td>\n",
       "      <td>6</td>\n",
       "      <td>20</td>\n",
       "      <td>179899</td>\n",
       "      <td>1452.45</td>\n",
       "      <td>105461</td>\n",
       "      <td>0.09</td>\n",
       "      <td>3.95</td>\n",
       "      <td>0.01</td>\n",
       "      <td>493</td>\n",
       "      <td>4770457</td>\n",
       "    </tr>\n",
       "    <tr>\n",
       "      <th>3</th>\n",
       "      <td>2023-01-01</td>\n",
       "      <td>3</td>\n",
       "      <td>11T</td>\n",
       "      <td>13.7898</td>\n",
       "      <td>100.4486</td>\n",
       "      <td>71.83</td>\n",
       "      <td>0</td>\n",
       "      <td>1</td>\n",
       "      <td>6</td>\n",
       "      <td>26</td>\n",
       "      <td>101330</td>\n",
       "      <td>3437.36</td>\n",
       "      <td>44465</td>\n",
       "      <td>0.15</td>\n",
       "      <td>13.76</td>\n",
       "      <td>0.05</td>\n",
       "      <td>77</td>\n",
       "      <td>144736</td>\n",
       "    </tr>\n",
       "    <tr>\n",
       "      <th>4</th>\n",
       "      <td>2023-01-01</td>\n",
       "      <td>4</td>\n",
       "      <td>12T</td>\n",
       "      <td>13.8225</td>\n",
       "      <td>100.5147</td>\n",
       "      <td>158.36</td>\n",
       "      <td>0</td>\n",
       "      <td>1</td>\n",
       "      <td>6</td>\n",
       "      <td>3</td>\n",
       "      <td>118634</td>\n",
       "      <td>10275.79</td>\n",
       "      <td>78240</td>\n",
       "      <td>0.68</td>\n",
       "      <td>2.30</td>\n",
       "      <td>0.02</td>\n",
       "      <td>272</td>\n",
       "      <td>297638</td>\n",
       "    </tr>\n",
       "  </tbody>\n",
       "</table>\n",
       "</div>"
      ],
      "text/plain": [
       "    datetime  Unnamed: 0 station      lat       lon   pm2_5  hour  month  \\\n",
       "0 2023-01-01           0      3T  13.7563  100.5018  158.36     0      1   \n",
       "1 2023-01-01           1      5T  13.7367  100.5231  158.36     0      1   \n",
       "2 2023-01-01           2     10T  13.7291  100.7750   63.83     0      1   \n",
       "3 2023-01-01           3     11T  13.7898  100.4486   71.83     0      1   \n",
       "4 2023-01-01           4     12T  13.8225  100.5147  158.36     0      1   \n",
       "\n",
       "   day_of_week  sea_level  population  population_density  household  \\\n",
       "0            6         23       64468             9046.87      58039   \n",
       "1            6         10       40077             4788.74      32138   \n",
       "2            6         20      179899             1452.45     105461   \n",
       "3            6         26      101330             3437.36      44465   \n",
       "4            6          3      118634            10275.79      78240   \n",
       "\n",
       "   household_density  green_space  green_space_area  factory_num  factory_area  \n",
       "0               0.81        10.77              0.10          112        123059  \n",
       "1               0.38        22.97              0.11          188         54185  \n",
       "2               0.09         3.95              0.01          493       4770457  \n",
       "3               0.15        13.76              0.05           77        144736  \n",
       "4               0.68         2.30              0.02          272        297638  "
      ]
     },
     "execution_count": 147,
     "metadata": {},
     "output_type": "execute_result"
    }
   ],
   "source": [
    "df.head()"
   ]
  },
  {
   "cell_type": "code",
   "execution_count": 148,
   "metadata": {},
   "outputs": [],
   "source": [
    "def map_season(month):\n",
    "    if 3 <= month <= 4:\n",
    "        return 'Hot Season'\n",
    "    elif 5 <= month <= 10:\n",
    "        return 'Rainy Season'\n",
    "    else:\n",
    "        return 'Cool Season'\n",
    "\n",
    "# Apply the function to create a new 'season' column\n",
    "df['season'] = df['month'].apply(map_season)"
   ]
  },
  {
   "cell_type": "code",
   "execution_count": 149,
   "metadata": {},
   "outputs": [
    {
     "name": "stderr",
     "output_type": "stream",
     "text": [
      "C:\\Users\\Aimmy\\AppData\\Local\\Temp\\ipykernel_30320\\2605075261.py:5: FutureWarning: \n",
      "\n",
      "Passing `palette` without assigning `hue` is deprecated and will be removed in v0.14.0. Assign the `x` variable to `hue` and set `legend=False` for the same effect.\n",
      "\n",
      "  sns.barplot(data=seasonal_pm25, x='season', y='pm2_5', palette='coolwarm')\n"
     ]
    },
    {
     "data": {
      "image/png": "[encoded data removed]",
      "text/plain": [
       "<Figure size 1000x500 with 1 Axes>"
      ]
     },
     "metadata": {},
     "output_type": "display_data"
    }
   ],
   "source": [
    "seasonal_pm25 = df.groupby('season')['pm2_5'].mean().reset_index()\n",
    "\n",
    "# Create a bar plot\n",
    "plt.figure(figsize=(10, 5))\n",
    "sns.barplot(data=seasonal_pm25, x='season', y='pm2_5', palette='coolwarm')\n",
    "plt.title('Average PM2.5 Levels by Season')\n",
    "plt.xlabel('Season')\n",
    "plt.ylabel('Average PM2.5 Levels')\n",
    "plt.show()"
   ]
  },
  {
   "cell_type": "code",
   "execution_count": 150,
   "metadata": {},
   "outputs": [],
   "source": [
    "df=pd.get_dummies(df, columns=['season'], drop_first=True)"
   ]
  },
  {
   "cell_type": "code",
   "execution_count": 151,
   "metadata": {},
   "outputs": [],
   "source": [
    "# Add time step column\n",
    "# df['time_step'] = df.index.to_list()"
   ]
  },
  {
   "cell_type": "code",
   "execution_count": 152,
   "metadata": {},
   "outputs": [],
   "source": [
    "# df['time_step'] "
   ]
  },
  {
   "cell_type": "code",
   "execution_count": 153,
   "metadata": {},
   "outputs": [],
   "source": [
    "# df.set_index('datetime', inplace=True)"
   ]
  },
  {
   "cell_type": "code",
   "execution_count": 154,
   "metadata": {},
   "outputs": [
    {
     "data": {
      "text/plain": [
       "datetime               datetime64[ns]\n",
       "Unnamed: 0                      int64\n",
       "station                        object\n",
       "lat                           float64\n",
       "lon                           float64\n",
       "pm2_5                         float64\n",
       "hour                            int32\n",
       "month                           int32\n",
       "day_of_week                     int32\n",
       "sea_level                       int64\n",
       "population                      int64\n",
       "population_density            float64\n",
       "household                       int64\n",
       "household_density             float64\n",
       "green_space                   float64\n",
       "green_space_area              float64\n",
       "factory_num                     int64\n",
       "factory_area                    int64\n",
       "season_Hot Season                bool\n",
       "season_Rainy Season              bool\n",
       "dtype: object"
      ]
     },
     "execution_count": 154,
     "metadata": {},
     "output_type": "execute_result"
    }
   ],
   "source": [
    "df.dtypes"
   ]
  },
  {
   "cell_type": "code",
   "execution_count": 155,
   "metadata": {},
   "outputs": [
    {
     "data": {
      "text/plain": [
       "Index(['datetime', 'Unnamed: 0', 'station', 'lat', 'lon', 'pm2_5', 'hour',\n",
       "       'month', 'day_of_week', 'sea_level', 'population', 'population_density',\n",
       "       'household', 'household_density', 'green_space', 'green_space_area',\n",
       "       'factory_num', 'factory_area', 'season_Hot Season',\n",
       "       'season_Rainy Season'],\n",
       "      dtype='object')"
      ]
     },
     "execution_count": 155,
     "metadata": {},
     "output_type": "execute_result"
    }
   ],
   "source": [
    "df.columns"
   ]
  },
  {
   "cell_type": "markdown",
   "metadata": {},
   "source": [
    "### **Visualize**"
   ]
  },
  {
   "cell_type": "code",
   "execution_count": 156,
   "metadata": {},
   "outputs": [
    {
     "data": {
      "image/png": "[encoded data removed]",
      "text/plain": [
       "<Figure size 1000x500 with 1 Axes>"
      ]
     },
     "metadata": {},
     "output_type": "display_data"
    }
   ],
   "source": [
    "green_space_per_station = df.groupby('station')['green_space'].mean().reset_index()\n",
    "\n",
    "# Create the bar graph\n",
    "plt.figure(figsize=(10, 5))\n",
    "sns.barplot(x='station', y='green_space', data=green_space_per_station)\n",
    "plt.title('Green Space Distribution by Station')\n",
    "plt.xlabel('Station')\n",
    "plt.ylabel('Average Green Space')\n",
    "plt.xticks(rotation=45)  # Rotate station names for better readability\n",
    "plt.show()"
   ]
  },
  {
   "cell_type": "code",
   "execution_count": 157,
   "metadata": {},
   "outputs": [
    {
     "data": {
      "image/png": "[encoded data removed]",
      "text/plain": [
       "<Figure size 1000x500 with 1 Axes>"
      ]
     },
     "metadata": {},
     "output_type": "display_data"
    }
   ],
   "source": [
    "# Create histogram for PM2.5 distribution\n",
    "plt.figure(figsize=(10, 5))\n",
    "plt.hist(df['pm2_5'], bins=30, color='skyblue', edgecolor='black')\n",
    "plt.title('Distribution of PM₂.₅ Values')\n",
    "plt.xlabel('PM₂.₅ Levels')\n",
    "plt.ylabel('Frequency')\n",
    "plt.grid(True)\n",
    "plt.show()"
   ]
  },
  {
   "cell_type": "code",
   "execution_count": 158,
   "metadata": {},
   "outputs": [
    {
     "data": {
      "image/png": "[encoded data removed]",
      "text/plain": [
       "<Figure size 1000x500 with 1 Axes>"
      ]
     },
     "metadata": {},
     "output_type": "display_data"
    }
   ],
   "source": [
    "# Calculate average PM2.5 per month\n",
    "average_pm25_per_month = df.groupby('month')['pm2_5'].mean().reset_index()\n",
    "\n",
    "# Create bar chart\n",
    "plt.figure(figsize=(10, 5))\n",
    "sns.barplot(data=average_pm25_per_month, x='month', y='pm2_5')\n",
    "plt.title('Average PM₂.₅ Levels per Month')\n",
    "plt.xlabel('Month')\n",
    "plt.ylabel('Average PM₂.₅ Levels')\n",
    "plt.grid(True)\n",
    "plt.show()"
   ]
  },
  {
   "cell_type": "code",
   "execution_count": 159,
   "metadata": {},
   "outputs": [
    {
     "data": {
      "image/png": "[encoded data removed]",
      "text/plain": [
       "<Figure size 1000x500 with 1 Axes>"
      ]
     },
     "metadata": {},
     "output_type": "display_data"
    }
   ],
   "source": [
    "hourly_pm25_trends = df.groupby('hour')['pm2_5'].mean().reset_index()\n",
    "\n",
    "# Create line plot for hourly trends\n",
    "plt.figure(figsize=(10, 5))\n",
    "sns.lineplot(data=hourly_pm25_trends, x='hour', y='pm2_5', marker='o', color='skyblue')\n",
    "plt.title('Hourly PM₂.₅ Trends')\n",
    "plt.xlabel('Hour of the Day')\n",
    "plt.ylabel('Average PM₂.₅ Levels')\n",
    "plt.grid(True)\n",
    "plt.show()"
   ]
  },
  {
   "cell_type": "code",
   "execution_count": 160,
   "metadata": {},
   "outputs": [
    {
     "data": {
      "image/png": "[encoded data removed]",
      "text/plain": [
       "<Figure size 1000x500 with 1 Axes>"
      ]
     },
     "metadata": {},
     "output_type": "display_data"
    }
   ],
   "source": [
    "# You can reuse average_pm25_per_month calculated previously\n",
    "average_pm25_per_month = df.groupby('month')['pm2_5'].mean().reset_index()\n",
    "\n",
    "plt.figure(figsize=(10, 5))\n",
    "sns.lineplot(data=average_pm25_per_month, x='month', y='pm2_5', marker='o', color='green')\n",
    "plt.title('Monthly PM₂.₅ Trends')\n",
    "plt.xlabel('Month')\n",
    "plt.ylabel('Average PM₂.₅ Levels')\n",
    "plt.grid(True)\n",
    "plt.show()"
   ]
  },
  {
   "cell_type": "code",
   "execution_count": 161,
   "metadata": {},
   "outputs": [
    {
     "name": "stderr",
     "output_type": "stream",
     "text": [
      "C:\\Users\\Aimmy\\AppData\\Local\\Temp\\ipykernel_30320\\2316793127.py:3: FutureWarning: \n",
      "\n",
      "Passing `palette` without assigning `hue` is deprecated and will be removed in v0.14.0. Assign the `x` variable to `hue` and set `legend=False` for the same effect.\n",
      "\n",
      "  sns.barplot(data=df, x='day_of_week', y='pm2_5', palette='coolwarm')\n"
     ]
    },
    {
     "data": {
      "image/png": "[encoded data removed]",
      "text/plain": [
       "<Figure size 1000x600 with 1 Axes>"
      ]
     },
     "metadata": {},
     "output_type": "display_data"
    }
   ],
   "source": [
    "# Box plot for PM2.5 distribution per day of the week\n",
    "plt.figure(figsize=(10, 6))\n",
    "sns.barplot(data=df, x='day_of_week', y='pm2_5', palette='coolwarm')\n",
    "plt.title('PM₂.₅ Distribution Per Day of the Week')\n",
    "plt.xlabel('Day of the Week')\n",
    "plt.ylabel('PM₂.₅ Levels')\n",
    "plt.grid(True)\n",
    "plt.show()"
   ]
  },
  {
   "cell_type": "code",
   "execution_count": 162,
   "metadata": {},
   "outputs": [
    {
     "data": {
      "image/png": "[encoded data removed]",
      "text/plain": [
       "<Figure size 1000x500 with 1 Axes>"
      ]
     },
     "metadata": {},
     "output_type": "display_data"
    }
   ],
   "source": [
    "station_stats = df.groupby('station').agg({\n",
    "    'green_space': 'mean',  # Average or sum of green space per station\n",
    "    'pm2_5': 'mean'        # Average PM2.5 levels per station\n",
    "}).reset_index()\n",
    "\n",
    "# Create a grouped bar chart\n",
    "plt.figure(figsize=(10, 5))\n",
    "# Setting the positions for the bars\n",
    "bar_width = 0.35\n",
    "index = range(len(station_stats['station']))\n",
    "\n",
    "# Plotting both 'green_space' and 'pm2_5' data\n",
    "bars1 = plt.bar(index, station_stats['green_space'], bar_width, label='Green Space')\n",
    "bars2 = plt.bar([p + bar_width for p in index], station_stats['pm2_5'], bar_width, label='PM2.5')\n",
    "\n",
    "# Adding labels, title, and legend\n",
    "plt.xlabel('Station')\n",
    "plt.ylabel('Values')\n",
    "plt.title('Green Space and PM2.5 Levels Per Station')\n",
    "plt.xticks([p + bar_width / 2 for p in index], station_stats['station'], rotation=45)\n",
    "plt.legend()\n",
    "\n",
    "# Show the plot\n",
    "plt.tight_layout()\n",
    "plt.show()"
   ]
  },
  {
   "cell_type": "code",
   "execution_count": 163,
   "metadata": {},
   "outputs": [
    {
     "data": {
      "image/png": "[encoded data removed]",
      "text/plain": [
       "<Figure size 1000x600 with 1 Axes>"
      ]
     },
     "metadata": {},
     "output_type": "display_data"
    }
   ],
   "source": [
    "average_pm25_by_greenspace = df.groupby('green_space')['pm2_5'].mean().reset_index()\n",
    "average_pm25_by_greenspace = average_pm25_by_greenspace.sort_values('green_space')\n",
    "\n",
    "# Create a line plot for the average PM2.5 levels by green space\n",
    "plt.figure(figsize=(10, 6))\n",
    "sns.lineplot(x='green_space', y='pm2_5', data=average_pm25_by_greenspace, marker='o', color='blue')\n",
    "plt.title('Average PM2.5 Levels by Green Space')\n",
    "plt.xlabel('Green Space')\n",
    "plt.ylabel('Average PM2.5 Level')\n",
    "plt.grid(True)  # Optional: Adds a grid for better readability\n",
    "plt.show()\n"
   ]
  },
  {
   "cell_type": "markdown",
   "metadata": {},
   "source": [
    "### **We need to use these analysis**\n",
    "- Trend analysis\n",
    "- Cyclicity analysis\n",
    "- Seasonal analysis"
   ]
  },
  {
   "cell_type": "code",
   "execution_count": null,
   "metadata": {},
   "outputs": [],
   "source": [
    "# Selected features for heatmap correlation analysis\n",
    "selected_cols = ['lat', 'lon','pm2_5','sea_level', 'hour','month','day_of_week', 'population', 'population_density', 'household', 'household_density','green_space', 'green_space_area','factory_num', 'factory_area', 'season_Hot Season', 'season_Rainy Season']"
   ]
  },
  {
   "cell_type": "markdown",
   "metadata": {},
   "source": [
    "### **Heatmap with `pearson` method: Good for linear relationship**"
   ]
  },
  {
   "cell_type": "code",
   "execution_count": 165,
   "metadata": {},
   "outputs": [
    {
     "data": {
      "image/png": "[encoded data removed]",
      "text/plain": [
       "<Figure size 1000x500 with 2 Axes>"
      ]
     },
     "metadata": {},
     "output_type": "display_data"
    }
   ],
   "source": [
    "corr_matrix = df[selected_cols].corr(method='pearson')\n",
    "corr_matrix\n",
    "\n",
    "# Plotting the heatmap for numerical columns\n",
    "plt.figure(figsize=(10,5))\n",
    "sns.heatmap(data=corr_matrix, cmap='coolwarm', fmt=' .2f', annot=True, linewidths=1.5)\n",
    "plt.show()"
   ]
  },
  {
   "cell_type": "markdown",
   "metadata": {},
   "source": [
    "### **Heatmap with `spearman` method: Good for non-linear relationship**"
   ]
  },
  {
   "cell_type": "code",
   "execution_count": 166,
   "metadata": {},
   "outputs": [
    {
     "data": {
      "image/png": "[encoded data removed]",
      "text/plain": [
       "<Figure size 1000x500 with 2 Axes>"
      ]
     },
     "metadata": {},
     "output_type": "display_data"
    }
   ],
   "source": [
    "corr_matrix = df[selected_cols].corr(method='spearman')\n",
    "corr_matrix\n",
    "\n",
    "# Plotting the heatmap for numerical columns\n",
    "plt.figure(figsize=(10,5))\n",
    "sns.heatmap(data=corr_matrix, cmap='coolwarm', fmt=' .2f', annot=True, linewidths=1.5)\n",
    "plt.show()"
   ]
  },
  {
   "cell_type": "markdown",
   "metadata": {},
   "source": [
    "### **We use `spearman` method of correlation** \n",
    "- Because we are relying on rendom forest, XGBoost, Decision Tree!\n",
    "- This is the non-parametric method!\n",
    "- And we will compare performance for these 3 models (non-parametric method) to Linear models like Linear Regression, Ridge, Lasso Regression (Parametric method), and non-machine-learning method such as moving average to make sure that our assumption of non-parametric method is the best suited for PM2.5 prediction\n",
    "- Additionally, spearman (non-linear relation) captures relationship better than pearson (Linear relation)"
   ]
  },
  {
   "cell_type": "markdown",
   "metadata": {},
   "source": [
    "## **6. Feature selection**"
   ]
  },
  {
   "cell_type": "markdown",
   "metadata": {},
   "source": [
    "### **Choose the most salient X**\n",
    "- Rule of thumb: Good features MUST NOT BE correlated, i.e., independent\n",
    "- Rule of thumb: Correlation is not causation; don’t pick features using correlation only; it should make sense!\n",
    "- Rule of thumb: For ML, less features are usually better (but NOT necessarily for DL)\n",
    "\n",
    "### **Specify the y**\n",
    "\n",
    "### **Split train / test**"
   ]
  },
  {
   "cell_type": "code",
   "execution_count": 167,
   "metadata": {},
   "outputs": [],
   "source": [
    "features = df[['population_density','factory_area','season_Hot Season', 'season_Rainy Season']]\n",
    "target = df['pm2_5']"
   ]
  },
  {
   "cell_type": "code",
   "execution_count": 168,
   "metadata": {},
   "outputs": [],
   "source": [
    "# Selecting X and y features\n",
    "from sklearn.model_selection import train_test_split\n",
    "X_train, X_test, y_train, y_test = train_test_split(features, target, test_size=0.1, random_state=42)"
   ]
  },
  {
   "cell_type": "code",
   "execution_count": 169,
   "metadata": {},
   "outputs": [
    {
     "data": {
      "text/html": [
       "<div>\n",
       "<style scoped>\n",
       "    .dataframe tbody tr th:only-of-type {\n",
       "        vertical-align: middle;\n",
       "    }\n",
       "\n",
       "    .dataframe tbody tr th {\n",
       "        vertical-align: top;\n",
       "    }\n",
       "\n",
       "    .dataframe thead th {\n",
       "        text-align: right;\n",
       "    }\n",
       "</style>\n",
       "<table border=\"1\" class=\"dataframe\">\n",
       "  <thead>\n",
       "    <tr style=\"text-align: right;\">\n",
       "      <th></th>\n",
       "      <th>population_density</th>\n",
       "      <th>factory_area</th>\n",
       "      <th>season_Hot Season</th>\n",
       "      <th>season_Rainy Season</th>\n",
       "    </tr>\n",
       "  </thead>\n",
       "  <tbody>\n",
       "    <tr>\n",
       "      <th>82890</th>\n",
       "      <td>3437.36</td>\n",
       "      <td>144736</td>\n",
       "      <td>False</td>\n",
       "      <td>True</td>\n",
       "    </tr>\n",
       "    <tr>\n",
       "      <th>16340</th>\n",
       "      <td>1452.45</td>\n",
       "      <td>4770457</td>\n",
       "      <td>True</td>\n",
       "      <td>False</td>\n",
       "    </tr>\n",
       "    <tr>\n",
       "      <th>126622</th>\n",
       "      <td>4542.29</td>\n",
       "      <td>631723</td>\n",
       "      <td>False</td>\n",
       "      <td>False</td>\n",
       "    </tr>\n",
       "    <tr>\n",
       "      <th>101661</th>\n",
       "      <td>9046.87</td>\n",
       "      <td>123059</td>\n",
       "      <td>False</td>\n",
       "      <td>True</td>\n",
       "    </tr>\n",
       "    <tr>\n",
       "      <th>30376</th>\n",
       "      <td>3437.36</td>\n",
       "      <td>144736</td>\n",
       "      <td>False</td>\n",
       "      <td>True</td>\n",
       "    </tr>\n",
       "    <tr>\n",
       "      <th>...</th>\n",
       "      <td>...</td>\n",
       "      <td>...</td>\n",
       "      <td>...</td>\n",
       "      <td>...</td>\n",
       "    </tr>\n",
       "    <tr>\n",
       "      <th>110268</th>\n",
       "      <td>10275.79</td>\n",
       "      <td>297638</td>\n",
       "      <td>False</td>\n",
       "      <td>True</td>\n",
       "    </tr>\n",
       "    <tr>\n",
       "      <th>119879</th>\n",
       "      <td>10275.79</td>\n",
       "      <td>297638</td>\n",
       "      <td>False</td>\n",
       "      <td>False</td>\n",
       "    </tr>\n",
       "    <tr>\n",
       "      <th>103694</th>\n",
       "      <td>3437.36</td>\n",
       "      <td>144736</td>\n",
       "      <td>False</td>\n",
       "      <td>True</td>\n",
       "    </tr>\n",
       "    <tr>\n",
       "      <th>131932</th>\n",
       "      <td>3437.36</td>\n",
       "      <td>144736</td>\n",
       "      <td>True</td>\n",
       "      <td>False</td>\n",
       "    </tr>\n",
       "    <tr>\n",
       "      <th>121958</th>\n",
       "      <td>10275.79</td>\n",
       "      <td>297638</td>\n",
       "      <td>False</td>\n",
       "      <td>False</td>\n",
       "    </tr>\n",
       "  </tbody>\n",
       "</table>\n",
       "<p>119284 rows × 4 columns</p>\n",
       "</div>"
      ],
      "text/plain": [
       "        population_density  factory_area  season_Hot Season  \\\n",
       "82890              3437.36        144736              False   \n",
       "16340              1452.45       4770457               True   \n",
       "126622             4542.29        631723              False   \n",
       "101661             9046.87        123059              False   \n",
       "30376              3437.36        144736              False   \n",
       "...                    ...           ...                ...   \n",
       "110268            10275.79        297638              False   \n",
       "119879            10275.79        297638              False   \n",
       "103694             3437.36        144736              False   \n",
       "131932             3437.36        144736               True   \n",
       "121958            10275.79        297638              False   \n",
       "\n",
       "        season_Rainy Season  \n",
       "82890                  True  \n",
       "16340                 False  \n",
       "126622                False  \n",
       "101661                 True  \n",
       "30376                  True  \n",
       "...                     ...  \n",
       "110268                 True  \n",
       "119879                False  \n",
       "103694                 True  \n",
       "131932                False  \n",
       "121958                False  \n",
       "\n",
       "[119284 rows x 4 columns]"
      ]
     },
     "execution_count": 169,
     "metadata": {},
     "output_type": "execute_result"
    }
   ],
   "source": [
    "X_train"
   ]
  },
  {
   "cell_type": "code",
   "execution_count": 170,
   "metadata": {},
   "outputs": [
    {
     "data": {
      "text/html": [
       "<div>\n",
       "<style scoped>\n",
       "    .dataframe tbody tr th:only-of-type {\n",
       "        vertical-align: middle;\n",
       "    }\n",
       "\n",
       "    .dataframe tbody tr th {\n",
       "        vertical-align: top;\n",
       "    }\n",
       "\n",
       "    .dataframe thead th {\n",
       "        text-align: right;\n",
       "    }\n",
       "</style>\n",
       "<table border=\"1\" class=\"dataframe\">\n",
       "  <thead>\n",
       "    <tr style=\"text-align: right;\">\n",
       "      <th></th>\n",
       "      <th>population_density</th>\n",
       "      <th>factory_area</th>\n",
       "      <th>season_Hot Season</th>\n",
       "      <th>season_Rainy Season</th>\n",
       "    </tr>\n",
       "  </thead>\n",
       "  <tbody>\n",
       "    <tr>\n",
       "      <th>30811</th>\n",
       "      <td>10275.79</td>\n",
       "      <td>297638</td>\n",
       "      <td>False</td>\n",
       "      <td>True</td>\n",
       "    </tr>\n",
       "    <tr>\n",
       "      <th>24784</th>\n",
       "      <td>10275.79</td>\n",
       "      <td>297638</td>\n",
       "      <td>False</td>\n",
       "      <td>True</td>\n",
       "    </tr>\n",
       "    <tr>\n",
       "      <th>46354</th>\n",
       "      <td>9046.87</td>\n",
       "      <td>123059</td>\n",
       "      <td>False</td>\n",
       "      <td>True</td>\n",
       "    </tr>\n",
       "    <tr>\n",
       "      <th>48040</th>\n",
       "      <td>4542.29</td>\n",
       "      <td>631723</td>\n",
       "      <td>False</td>\n",
       "      <td>True</td>\n",
       "    </tr>\n",
       "    <tr>\n",
       "      <th>13770</th>\n",
       "      <td>4788.74</td>\n",
       "      <td>54185</td>\n",
       "      <td>True</td>\n",
       "      <td>False</td>\n",
       "    </tr>\n",
       "    <tr>\n",
       "      <th>...</th>\n",
       "      <td>...</td>\n",
       "      <td>...</td>\n",
       "      <td>...</td>\n",
       "      <td>...</td>\n",
       "    </tr>\n",
       "    <tr>\n",
       "      <th>111203</th>\n",
       "      <td>4788.74</td>\n",
       "      <td>54185</td>\n",
       "      <td>False</td>\n",
       "      <td>False</td>\n",
       "    </tr>\n",
       "    <tr>\n",
       "      <th>54600</th>\n",
       "      <td>9046.87</td>\n",
       "      <td>123059</td>\n",
       "      <td>False</td>\n",
       "      <td>False</td>\n",
       "    </tr>\n",
       "    <tr>\n",
       "      <th>3377</th>\n",
       "      <td>3437.36</td>\n",
       "      <td>144736</td>\n",
       "      <td>False</td>\n",
       "      <td>False</td>\n",
       "    </tr>\n",
       "    <tr>\n",
       "      <th>72664</th>\n",
       "      <td>10275.79</td>\n",
       "      <td>297638</td>\n",
       "      <td>True</td>\n",
       "      <td>False</td>\n",
       "    </tr>\n",
       "    <tr>\n",
       "      <th>93206</th>\n",
       "      <td>4788.74</td>\n",
       "      <td>54185</td>\n",
       "      <td>False</td>\n",
       "      <td>True</td>\n",
       "    </tr>\n",
       "  </tbody>\n",
       "</table>\n",
       "<p>13254 rows × 4 columns</p>\n",
       "</div>"
      ],
      "text/plain": [
       "        population_density  factory_area  season_Hot Season  \\\n",
       "30811             10275.79        297638              False   \n",
       "24784             10275.79        297638              False   \n",
       "46354              9046.87        123059              False   \n",
       "48040              4542.29        631723              False   \n",
       "13770              4788.74         54185               True   \n",
       "...                    ...           ...                ...   \n",
       "111203             4788.74         54185              False   \n",
       "54600              9046.87        123059              False   \n",
       "3377               3437.36        144736              False   \n",
       "72664             10275.79        297638               True   \n",
       "93206              4788.74         54185              False   \n",
       "\n",
       "        season_Rainy Season  \n",
       "30811                  True  \n",
       "24784                  True  \n",
       "46354                  True  \n",
       "48040                  True  \n",
       "13770                 False  \n",
       "...                     ...  \n",
       "111203                False  \n",
       "54600                 False  \n",
       "3377                  False  \n",
       "72664                 False  \n",
       "93206                  True  \n",
       "\n",
       "[13254 rows x 4 columns]"
      ]
     },
     "execution_count": 170,
     "metadata": {},
     "output_type": "execute_result"
    }
   ],
   "source": [
    "X_test"
   ]
  },
  {
   "cell_type": "code",
   "execution_count": 171,
   "metadata": {},
   "outputs": [
    {
     "data": {
      "text/plain": [
       "82890      19.77\n",
       "16340      22.66\n",
       "126622     99.46\n",
       "101661     43.06\n",
       "30376      16.07\n",
       "           ...  \n",
       "110268    550.57\n",
       "119879     61.50\n",
       "103694      8.01\n",
       "131932     83.88\n",
       "121958    213.60\n",
       "Name: pm2_5, Length: 119284, dtype: float64"
      ]
     },
     "execution_count": 171,
     "metadata": {},
     "output_type": "execute_result"
    }
   ],
   "source": [
    "y_train"
   ]
  },
  {
   "cell_type": "code",
   "execution_count": 172,
   "metadata": {},
   "outputs": [
    {
     "data": {
      "text/plain": [
       "30811      92.66\n",
       "24784      90.74\n",
       "46354      61.78\n",
       "48040      92.88\n",
       "13770      39.16\n",
       "           ...  \n",
       "111203    192.50\n",
       "54600     110.26\n",
       "3377       88.48\n",
       "72664      25.59\n",
       "93206      32.59\n",
       "Name: pm2_5, Length: 13254, dtype: float64"
      ]
     },
     "execution_count": 172,
     "metadata": {},
     "output_type": "execute_result"
    }
   ],
   "source": [
    "y_test"
   ]
  },
  {
   "cell_type": "code",
   "execution_count": 173,
   "metadata": {},
   "outputs": [
    {
     "data": {
      "text/html": [
       "<div>\n",
       "<style scoped>\n",
       "    .dataframe tbody tr th:only-of-type {\n",
       "        vertical-align: middle;\n",
       "    }\n",
       "\n",
       "    .dataframe tbody tr th {\n",
       "        vertical-align: top;\n",
       "    }\n",
       "\n",
       "    .dataframe thead th {\n",
       "        text-align: right;\n",
       "    }\n",
       "</style>\n",
       "<table border=\"1\" class=\"dataframe\">\n",
       "  <thead>\n",
       "    <tr style=\"text-align: right;\">\n",
       "      <th></th>\n",
       "      <th>population_density</th>\n",
       "      <th>factory_area</th>\n",
       "      <th>season_Hot Season</th>\n",
       "      <th>season_Rainy Season</th>\n",
       "    </tr>\n",
       "  </thead>\n",
       "  <tbody>\n",
       "    <tr>\n",
       "      <th>82890</th>\n",
       "      <td>3437.36</td>\n",
       "      <td>144736</td>\n",
       "      <td>False</td>\n",
       "      <td>True</td>\n",
       "    </tr>\n",
       "    <tr>\n",
       "      <th>16340</th>\n",
       "      <td>1452.45</td>\n",
       "      <td>4770457</td>\n",
       "      <td>True</td>\n",
       "      <td>False</td>\n",
       "    </tr>\n",
       "    <tr>\n",
       "      <th>126622</th>\n",
       "      <td>4542.29</td>\n",
       "      <td>631723</td>\n",
       "      <td>False</td>\n",
       "      <td>False</td>\n",
       "    </tr>\n",
       "    <tr>\n",
       "      <th>101661</th>\n",
       "      <td>9046.87</td>\n",
       "      <td>123059</td>\n",
       "      <td>False</td>\n",
       "      <td>True</td>\n",
       "    </tr>\n",
       "    <tr>\n",
       "      <th>30376</th>\n",
       "      <td>3437.36</td>\n",
       "      <td>144736</td>\n",
       "      <td>False</td>\n",
       "      <td>True</td>\n",
       "    </tr>\n",
       "    <tr>\n",
       "      <th>...</th>\n",
       "      <td>...</td>\n",
       "      <td>...</td>\n",
       "      <td>...</td>\n",
       "      <td>...</td>\n",
       "    </tr>\n",
       "    <tr>\n",
       "      <th>110268</th>\n",
       "      <td>10275.79</td>\n",
       "      <td>297638</td>\n",
       "      <td>False</td>\n",
       "      <td>True</td>\n",
       "    </tr>\n",
       "    <tr>\n",
       "      <th>119879</th>\n",
       "      <td>10275.79</td>\n",
       "      <td>297638</td>\n",
       "      <td>False</td>\n",
       "      <td>False</td>\n",
       "    </tr>\n",
       "    <tr>\n",
       "      <th>103694</th>\n",
       "      <td>3437.36</td>\n",
       "      <td>144736</td>\n",
       "      <td>False</td>\n",
       "      <td>True</td>\n",
       "    </tr>\n",
       "    <tr>\n",
       "      <th>131932</th>\n",
       "      <td>3437.36</td>\n",
       "      <td>144736</td>\n",
       "      <td>True</td>\n",
       "      <td>False</td>\n",
       "    </tr>\n",
       "    <tr>\n",
       "      <th>121958</th>\n",
       "      <td>10275.79</td>\n",
       "      <td>297638</td>\n",
       "      <td>False</td>\n",
       "      <td>False</td>\n",
       "    </tr>\n",
       "  </tbody>\n",
       "</table>\n",
       "<p>119284 rows × 4 columns</p>\n",
       "</div>"
      ],
      "text/plain": [
       "        population_density  factory_area  season_Hot Season  \\\n",
       "82890              3437.36        144736              False   \n",
       "16340              1452.45       4770457               True   \n",
       "126622             4542.29        631723              False   \n",
       "101661             9046.87        123059              False   \n",
       "30376              3437.36        144736              False   \n",
       "...                    ...           ...                ...   \n",
       "110268            10275.79        297638              False   \n",
       "119879            10275.79        297638              False   \n",
       "103694             3437.36        144736              False   \n",
       "131932             3437.36        144736               True   \n",
       "121958            10275.79        297638              False   \n",
       "\n",
       "        season_Rainy Season  \n",
       "82890                  True  \n",
       "16340                 False  \n",
       "126622                False  \n",
       "101661                 True  \n",
       "30376                  True  \n",
       "...                     ...  \n",
       "110268                 True  \n",
       "119879                False  \n",
       "103694                 True  \n",
       "131932                False  \n",
       "121958                False  \n",
       "\n",
       "[119284 rows x 4 columns]"
      ]
     },
     "execution_count": 173,
     "metadata": {},
     "output_type": "execute_result"
    }
   ],
   "source": [
    "X_train"
   ]
  },
  {
   "cell_type": "code",
   "execution_count": 174,
   "metadata": {},
   "outputs": [
    {
     "data": {
      "text/plain": [
       "population_density     0\n",
       "factory_area           0\n",
       "season_Hot Season      0\n",
       "season_Rainy Season    0\n",
       "dtype: int64"
      ]
     },
     "execution_count": 174,
     "metadata": {},
     "output_type": "execute_result"
    }
   ],
   "source": [
    "X_train.isna().sum()"
   ]
  },
  {
   "cell_type": "code",
   "execution_count": 175,
   "metadata": {},
   "outputs": [
    {
     "data": {
      "text/plain": [
       "population_density     0\n",
       "factory_area           0\n",
       "season_Hot Season      0\n",
       "season_Rainy Season    0\n",
       "dtype: int64"
      ]
     },
     "execution_count": 175,
     "metadata": {},
     "output_type": "execute_result"
    }
   ],
   "source": [
    "X_test.isna().sum()"
   ]
  },
  {
   "cell_type": "code",
   "execution_count": 176,
   "metadata": {},
   "outputs": [
    {
     "data": {
      "text/plain": [
       "(119284,)"
      ]
     },
     "execution_count": 176,
     "metadata": {},
     "output_type": "execute_result"
    }
   ],
   "source": [
    "y_train.shape"
   ]
  },
  {
   "cell_type": "code",
   "execution_count": 177,
   "metadata": {},
   "outputs": [
    {
     "data": {
      "text/plain": [
       "np.int64(0)"
      ]
     },
     "execution_count": 177,
     "metadata": {},
     "output_type": "execute_result"
    }
   ],
   "source": [
    "y_train.isna().sum()"
   ]
  },
  {
   "cell_type": "code",
   "execution_count": 178,
   "metadata": {},
   "outputs": [
    {
     "data": {
      "text/plain": [
       "(13254,)"
      ]
     },
     "execution_count": 178,
     "metadata": {},
     "output_type": "execute_result"
    }
   ],
   "source": [
    "y_test.shape"
   ]
  },
  {
   "cell_type": "code",
   "execution_count": 179,
   "metadata": {},
   "outputs": [
    {
     "data": {
      "text/plain": [
       "np.int64(0)"
      ]
     },
     "execution_count": 179,
     "metadata": {},
     "output_type": "execute_result"
    }
   ],
   "source": [
    "y_test.isna().sum()"
   ]
  },
  {
   "cell_type": "markdown",
   "metadata": {},
   "source": [
    "### **Handling Missing Values After Spliting**"
   ]
  },
  {
   "cell_type": "code",
   "execution_count": 180,
   "metadata": {},
   "outputs": [],
   "source": [
    "# Drop missing values in y_train and y_test\n",
    "X_train = X_train[~y_train.isna()]\n",
    "y_train = y_train.dropna()\n",
    "\n",
    "X_test = X_test[~y_test.isna()]\n",
    "y_test = y_test.dropna()"
   ]
  },
  {
   "cell_type": "markdown",
   "metadata": {},
   "source": [
    "## **7. Modeling**"
   ]
  },
  {
   "cell_type": "markdown",
   "metadata": {},
   "source": [
    "### **Modeling using non-parametric method (`XGBoost`, `RandomForest`, `DecisionTree`)**"
   ]
  },
  {
   "cell_type": "markdown",
   "metadata": {},
   "source": [
    "#### **Scaling for `XGBoost` model**\n",
    "- We will use these scaled X features for `XGBoost` model only"
   ]
  },
  {
   "cell_type": "code",
   "execution_count": 181,
   "metadata": {},
   "outputs": [],
   "source": [
    "# Try StandardScaler\n",
    "from sklearn.preprocessing import StandardScaler\n",
    "\n",
    "scaler = StandardScaler()\n",
    "X_train_scaled = X_train.copy()\n",
    "X_test_scaled = X_test.copy()\n",
    "\n",
    "\n",
    "X_train_scaled = scaler.fit_transform(X_train)\n",
    "X_test_scaled = scaler.transform(X_test)"
   ]
  },
  {
   "cell_type": "code",
   "execution_count": 182,
   "metadata": {},
   "outputs": [
    {
     "data": {
      "text/html": [
       "<div>\n",
       "<style scoped>\n",
       "    .dataframe tbody tr th:only-of-type {\n",
       "        vertical-align: middle;\n",
       "    }\n",
       "\n",
       "    .dataframe tbody tr th {\n",
       "        vertical-align: top;\n",
       "    }\n",
       "\n",
       "    .dataframe thead th {\n",
       "        text-align: right;\n",
       "    }\n",
       "</style>\n",
       "<table border=\"1\" class=\"dataframe\">\n",
       "  <thead>\n",
       "    <tr style=\"text-align: right;\">\n",
       "      <th></th>\n",
       "      <th>0</th>\n",
       "      <th>1</th>\n",
       "      <th>2</th>\n",
       "      <th>3</th>\n",
       "    </tr>\n",
       "  </thead>\n",
       "  <tbody>\n",
       "    <tr>\n",
       "      <th>count</th>\n",
       "      <td>1.192840e+05</td>\n",
       "      <td>1.192840e+05</td>\n",
       "      <td>1.192840e+05</td>\n",
       "      <td>1.192840e+05</td>\n",
       "    </tr>\n",
       "    <tr>\n",
       "      <th>mean</th>\n",
       "      <td>1.854926e-16</td>\n",
       "      <td>-1.346221e-17</td>\n",
       "      <td>1.191346e-18</td>\n",
       "      <td>5.833129e-17</td>\n",
       "    </tr>\n",
       "    <tr>\n",
       "      <th>std</th>\n",
       "      <td>1.000004e+00</td>\n",
       "      <td>1.000004e+00</td>\n",
       "      <td>1.000004e+00</td>\n",
       "      <td>1.000004e+00</td>\n",
       "    </tr>\n",
       "    <tr>\n",
       "      <th>min</th>\n",
       "      <td>-1.365095e+00</td>\n",
       "      <td>-6.180545e-01</td>\n",
       "      <td>-4.464621e-01</td>\n",
       "      <td>-9.178206e-01</td>\n",
       "    </tr>\n",
       "    <tr>\n",
       "      <th>25%</th>\n",
       "      <td>-6.799969e-01</td>\n",
       "      <td>-5.742038e-01</td>\n",
       "      <td>-4.464621e-01</td>\n",
       "      <td>-9.178206e-01</td>\n",
       "    </tr>\n",
       "    <tr>\n",
       "      <th>50%</th>\n",
       "      <td>-2.986269e-01</td>\n",
       "      <td>-4.630527e-01</td>\n",
       "      <td>-4.464621e-01</td>\n",
       "      <td>-9.178206e-01</td>\n",
       "    </tr>\n",
       "    <tr>\n",
       "      <th>75%</th>\n",
       "      <td>1.256143e+00</td>\n",
       "      <td>7.886486e-02</td>\n",
       "      <td>-4.464621e-01</td>\n",
       "      <td>1.089538e+00</td>\n",
       "    </tr>\n",
       "    <tr>\n",
       "      <th>max</th>\n",
       "      <td>1.680309e+00</td>\n",
       "      <td>2.384704e+00</td>\n",
       "      <td>2.239832e+00</td>\n",
       "      <td>1.089538e+00</td>\n",
       "    </tr>\n",
       "  </tbody>\n",
       "</table>\n",
       "</div>"
      ],
      "text/plain": [
       "                  0             1             2             3\n",
       "count  1.192840e+05  1.192840e+05  1.192840e+05  1.192840e+05\n",
       "mean   1.854926e-16 -1.346221e-17  1.191346e-18  5.833129e-17\n",
       "std    1.000004e+00  1.000004e+00  1.000004e+00  1.000004e+00\n",
       "min   -1.365095e+00 -6.180545e-01 -4.464621e-01 -9.178206e-01\n",
       "25%   -6.799969e-01 -5.742038e-01 -4.464621e-01 -9.178206e-01\n",
       "50%   -2.986269e-01 -4.630527e-01 -4.464621e-01 -9.178206e-01\n",
       "75%    1.256143e+00  7.886486e-02 -4.464621e-01  1.089538e+00\n",
       "max    1.680309e+00  2.384704e+00  2.239832e+00  1.089538e+00"
      ]
     },
     "execution_count": 182,
     "metadata": {},
     "output_type": "execute_result"
    }
   ],
   "source": [
    "# Checking XGBoost Scaling\n",
    "pd.DataFrame(X_train_scaled).describe()"
   ]
  },
  {
   "cell_type": "code",
   "execution_count": 183,
   "metadata": {},
   "outputs": [
    {
     "ename": "ModuleNotFoundError",
     "evalue": "No module named 'xgboost'",
     "output_type": "error",
     "traceback": [
      "\u001b[1;31m---------------------------------------------------------------------------\u001b[0m",
      "\u001b[1;31mModuleNotFoundError\u001b[0m                       Traceback (most recent call last)",
      "Cell \u001b[1;32mIn[183], line 3\u001b[0m\n\u001b[0;32m      1\u001b[0m \u001b[38;5;66;03m# Import modules for modeling\u001b[39;00m\n\u001b[0;32m      2\u001b[0m \u001b[38;5;28;01mfrom\u001b[39;00m\u001b[38;5;250m \u001b[39m\u001b[38;5;21;01msklearn\u001b[39;00m\u001b[38;5;21;01m.\u001b[39;00m\u001b[38;5;21;01mensemble\u001b[39;00m\u001b[38;5;250m \u001b[39m\u001b[38;5;28;01mimport\u001b[39;00m RandomForestRegressor\n\u001b[1;32m----> 3\u001b[0m \u001b[38;5;28;01mfrom\u001b[39;00m\u001b[38;5;250m \u001b[39m\u001b[38;5;21;01mxgboost\u001b[39;00m\u001b[38;5;250m \u001b[39m\u001b[38;5;28;01mimport\u001b[39;00m XGBRegressor\n\u001b[0;32m      4\u001b[0m \u001b[38;5;28;01mfrom\u001b[39;00m\u001b[38;5;250m \u001b[39m\u001b[38;5;21;01msklearn\u001b[39;00m\u001b[38;5;21;01m.\u001b[39;00m\u001b[38;5;21;01mtree\u001b[39;00m\u001b[38;5;250m \u001b[39m\u001b[38;5;28;01mimport\u001b[39;00m DecisionTreeRegressor\n\u001b[0;32m      5\u001b[0m \u001b[38;5;28;01mfrom\u001b[39;00m\u001b[38;5;250m \u001b[39m\u001b[38;5;21;01msklearn\u001b[39;00m\u001b[38;5;21;01m.\u001b[39;00m\u001b[38;5;21;01mmodel_selection\u001b[39;00m\u001b[38;5;250m \u001b[39m\u001b[38;5;28;01mimport\u001b[39;00m GridSearchCV\n",
      "\u001b[1;31mModuleNotFoundError\u001b[0m: No module named 'xgboost'"
     ]
    }
   ],
   "source": [
    "# Import modules for modeling\n",
    "from sklearn.ensemble import RandomForestRegressor\n",
    "from xgboost import XGBRegressor\n",
    "from sklearn.tree import DecisionTreeRegressor\n",
    "from sklearn.model_selection import GridSearchCV\n",
    "from sklearn.model_selection import cross_val_score"
   ]
  },
  {
   "cell_type": "code",
   "execution_count": null,
   "metadata": {},
   "outputs": [],
   "source": [
    "# Double-Check Time Splits (Data Leakage Check)\n",
    "print(\"Train Date Range:\", X_train.index.min(), \"to\", X_train.index.max())\n",
    "print(\"Test Date Range:\", X_test.index.min(), \"to\", X_test.index.max())"
   ]
  },
  {
   "cell_type": "code",
   "execution_count": null,
   "metadata": {},
   "outputs": [],
   "source": [
    "# Define the models\n",
    "models = {\n",
    "    \"RandomForest\": RandomForestRegressor(random_state=42),\n",
    "    \"XGBoost\": XGBRegressor(objective=\"reg:squarederror\", random_state=42),\n",
    "    \"DecisionTree\": DecisionTreeRegressor(random_state=42)\n",
    "}\n",
    "\n",
    "# Define hyperparameter grids\n",
    "param_grids = {\n",
    "    \"RandomForest\": {\n",
    "        \"n_estimators\": [1000, 1500, 2000],\n",
    "        \"max_depth\": [25, 30, 35],\n",
    "        \"min_samples_split\": [10, 15, 20]\n",
    "    },\n",
    "    \"XGBoost\": {\n",
    "        \"n_estimators\": [1000, 1500, 2000],\n",
    "        \"learning_rate\": [0.1, 0.01, 0.001],\n",
    "        \"max_depth\": [25, 30, 35],\n",
    "        \"subsample\": [0.7, 0.9],\n",
    "        \"colsample_bytree\": [0.7, 1],\n",
    "    },\n",
    "    \"DecisionTree\": {\n",
    "        \"max_depth\": [25, 30, 35],\n",
    "        \"min_samples_split\": [10, 15, 20]\n",
    "    }\n",
    "}"
   ]
  },
  {
   "cell_type": "code",
   "execution_count": null,
   "metadata": {},
   "outputs": [],
   "source": [
    "# Perform Cross-Validation and GridSearchCV\n",
    "\n",
    "from sklearn.metrics import mean_squared_error, r2_score\n",
    "from sklearn.model_selection import train_test_split, cross_val_score\n",
    "\n",
    "best_models = {}\n",
    "\n",
    "for model_name, model in models.items():\n",
    "    print(f\"Training {model_name}...\")\n",
    "\n",
    "    # Use scaled data for XGBoost, but original data for RF and DT\n",
    "    X_train_used = X_train_scaled if model_name == \"XGBoost\" else X_train\n",
    "    X_test_used = X_test_scaled if model_name == \"XGBoost\" else X_test\n",
    "\n",
    "    # GridSearchCV\n",
    "    grid_search = GridSearchCV(model, param_grids[model_name], cv=5, scoring=\"neg_mean_squared_error\", n_jobs=-1)\n",
    "    grid_search.fit(X_train_used, y_train)\n",
    "\n",
    "    # Best model\n",
    "    best_model = grid_search.best_estimator_\n",
    "    best_models[model_name] = best_model\n",
    "\n",
    "    # Cross-validation RMSE\n",
    "    scores = cross_val_score(best_model, X_train_used, y_train, cv=5, scoring=\"neg_mean_squared_error\")\n",
    "    mean_cv_rmse = np.sqrt(-scores.mean())\n",
    "\n",
    "    # Cross-validation R² Score\n",
    "    cv_r2_scores = cross_val_score(best_model, X_train_used, y_train, cv=5, scoring=\"r2\")\n",
    "    mean_cv_r2 = cv_r2_scores.mean()\n",
    "\n",
    "    # Evaluate on test set\n",
    "    y_pred = best_model.predict(X_test_used)\n",
    "    test_rmse = np.sqrt(mean_squared_error(y_test, y_pred))\n",
    "    test_r2 = r2_score(y_test, y_pred)  # Compute R² score\n",
    "\n",
    "    # Print RMSE & R² scores\n",
    "    print(f\"{model_name} Mean CV Score (RMSE): {mean_cv_rmse}\")\n",
    "    print(f\"{model_name} Mean CV R² Score: {mean_cv_r2}\")\n",
    "    print(f\"{model_name} Test RMSE: {test_rmse}\")\n",
    "    print(f\"{model_name} Test R² Score: {test_r2}\\n\")"
   ]
  },
  {
   "cell_type": "code",
   "execution_count": null,
   "metadata": {},
   "outputs": [],
   "source": [
    "# # Perform Cross-Validation and GridSearchCV\n",
    "\n",
    "# from sklearn.metrics import mean_squared_error\n",
    "# from sklearn.model_selection import train_test_split\n",
    "\n",
    "# best_models = {}\n",
    "\n",
    "# for model_name, model in models.items():\n",
    "#     print(f\"Training {model_name}...\")\n",
    "\n",
    "#     # Use scaled data for XGBoost, but original data for RF and DT\n",
    "#     X_train_used = X_train_scaled if model_name == \"XGBoost\" else X_train\n",
    "#     X_test_used = X_test_scaled if model_name == \"XGBoost\" else X_test\n",
    "\n",
    "#     # GridSearchCV\n",
    "#     grid_search = GridSearchCV(model, param_grids[model_name], cv=5, scoring=\"neg_mean_squared_error\", n_jobs=-1)\n",
    "#     grid_search.fit(X_train_used, y_train)\n",
    "\n",
    "#     # Best model\n",
    "#     best_model = grid_search.best_estimator_\n",
    "#     best_models[model_name] = best_model\n",
    "\n",
    "#     # Cross-validation\n",
    "#     scores = cross_val_score(best_model, X_train_used, y_train, cv=5, scoring=\"neg_mean_squared_error\")\n",
    "#     print(f\"{model_name} Mean CV Score (RMSE): {np.sqrt(-scores.mean())}\")\n",
    "\n",
    "#     # Evaluate on test set\n",
    "#     y_pred = best_model.predict(X_test_used)\n",
    "#     test_rmse = np.sqrt(mean_squared_error(y_test, y_pred))\n",
    "#     print(f\"{model_name} Test RMSE: {test_rmse}\\n\")\n"
   ]
  }
 ],
 "metadata": {
  "kernelspec": {
   "display_name": "ENV",
   "language": "python",
   "name": "python3"
  },
  "language_info": {
   "codemirror_mode": {
    "name": "ipython",
    "version": 3
   },
   "file_extension": ".py",
   "mimetype": "text/x-python",
   "name": "python",
   "nbconvert_exporter": "python",
   "pygments_lexer": "ipython3",
   "version": "3.9.13"
  }
 },
 "nbformat": 4,
 "nbformat_minor": 2
}
